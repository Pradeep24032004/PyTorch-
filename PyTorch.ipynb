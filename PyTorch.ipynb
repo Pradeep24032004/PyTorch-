{
  "cells": [
    {
      "cell_type": "markdown",
      "metadata": {
        "id": "view-in-github",
        "colab_type": "text"
      },
      "source": [
        "<a href=\"https://colab.research.google.com/github/Pradeep24032004/PyTorch-/blob/main/PyTorch.ipynb\" target=\"_parent\"><img src=\"https://colab.research.google.com/assets/colab-badge.svg\" alt=\"Open In Colab\"/></a>"
      ]
    },
    {
      "cell_type": "code",
      "execution_count": null,
      "metadata": {
        "colab": {
          "base_uri": "https://localhost:8080/"
        },
        "id": "snESTlXW9kLs",
        "outputId": "f9a98067-79ac-4df9-f70a-ee8e84b7d7db"
      },
      "outputs": [
        {
          "output_type": "stream",
          "name": "stdout",
          "text": [
            "/bin/bash: line 1: nvdia-smi: command not found\n"
          ]
        }
      ],
      "source": [
        "!nvdia-smi\n"
      ]
    },
    {
      "cell_type": "code",
      "execution_count": null,
      "metadata": {
        "colab": {
          "base_uri": "https://localhost:8080/"
        },
        "id": "zu2SxTRwDLuG",
        "outputId": "36aa3657-82b0-4742-fd78-de39c5c97b86"
      },
      "outputs": [
        {
          "output_type": "stream",
          "name": "stdout",
          "text": [
            "2.1.0+cu121\n"
          ]
        }
      ],
      "source": [
        "import torch\n",
        "import pandas as pd\n",
        "import numpy as np\n",
        "import matplotlib.pyplot as plt\n",
        "print(torch.__version__)"
      ]
    },
    {
      "cell_type": "code",
      "execution_count": null,
      "metadata": {
        "colab": {
          "base_uri": "https://localhost:8080/"
        },
        "id": "n_lY7t25EUlY",
        "outputId": "16d8c9ca-6b53-4894-f04b-6e3d10fe0342"
      },
      "outputs": [
        {
          "output_type": "execute_result",
          "data": {
            "text/plain": [
              "tensor(7)"
            ]
          },
          "metadata": {},
          "execution_count": 19
        }
      ],
      "source": [
        "#Introduction to tensors\n",
        "#creating tensors\n",
        "#scalars\n",
        "scalar = torch.tensor(7)\n",
        "scalar\n"
      ]
    },
    {
      "cell_type": "code",
      "source": [
        "scalar.ndim"
      ],
      "metadata": {
        "colab": {
          "base_uri": "https://localhost:8080/"
        },
        "id": "4x39ogseVgLf",
        "outputId": "1c9fa4c6-dbfa-411a-be34-4dfcf532aca6"
      },
      "execution_count": null,
      "outputs": [
        {
          "output_type": "execute_result",
          "data": {
            "text/plain": [
              "0"
            ]
          },
          "metadata": {},
          "execution_count": 20
        }
      ]
    },
    {
      "cell_type": "code",
      "source": [
        "#get tensor as python int\n",
        "scalar.item()"
      ],
      "metadata": {
        "colab": {
          "base_uri": "https://localhost:8080/"
        },
        "id": "3UpMd2LzVike",
        "outputId": "208e990a-62d7-4dca-bbc7-d6c043557b18"
      },
      "execution_count": null,
      "outputs": [
        {
          "output_type": "execute_result",
          "data": {
            "text/plain": [
              "7"
            ]
          },
          "metadata": {},
          "execution_count": 21
        }
      ]
    },
    {
      "cell_type": "code",
      "source": [
        "#vector\n",
        "vector = torch.tensor([7, 7])\n",
        "vector\n"
      ],
      "metadata": {
        "colab": {
          "base_uri": "https://localhost:8080/"
        },
        "id": "noRWeNoVV9yy",
        "outputId": "810a0f6d-7613-4f67-9019-c73b85a8e645"
      },
      "execution_count": null,
      "outputs": [
        {
          "output_type": "execute_result",
          "data": {
            "text/plain": [
              "tensor([7, 7])"
            ]
          },
          "metadata": {},
          "execution_count": 22
        }
      ]
    },
    {
      "cell_type": "code",
      "source": [
        "vector.ndim"
      ],
      "metadata": {
        "colab": {
          "base_uri": "https://localhost:8080/"
        },
        "id": "KagaYz53WHi4",
        "outputId": "66b1f06a-785a-4c65-9e7c-5de6a2a37a0a"
      },
      "execution_count": null,
      "outputs": [
        {
          "output_type": "execute_result",
          "data": {
            "text/plain": [
              "1"
            ]
          },
          "metadata": {},
          "execution_count": 23
        }
      ]
    },
    {
      "cell_type": "code",
      "source": [
        "vector.shape"
      ],
      "metadata": {
        "colab": {
          "base_uri": "https://localhost:8080/"
        },
        "id": "zho8FpjkWKpy",
        "outputId": "e38d679b-5c90-4c8a-d9c7-54d5eaa26013"
      },
      "execution_count": null,
      "outputs": [
        {
          "output_type": "execute_result",
          "data": {
            "text/plain": [
              "torch.Size([2])"
            ]
          },
          "metadata": {},
          "execution_count": 24
        }
      ]
    },
    {
      "cell_type": "code",
      "source": [
        "#Matrix\n",
        "MATRIX = torch.tensor([[1, 2], [3, 4]])\n",
        "MATRIX\n"
      ],
      "metadata": {
        "colab": {
          "base_uri": "https://localhost:8080/"
        },
        "id": "oeP6pOn9WOkA",
        "outputId": "7845f74a-ef37-43ee-be9e-8f44a8a9e074"
      },
      "execution_count": null,
      "outputs": [
        {
          "output_type": "execute_result",
          "data": {
            "text/plain": [
              "tensor([[1, 2],\n",
              "        [3, 4]])"
            ]
          },
          "metadata": {},
          "execution_count": 25
        }
      ]
    },
    {
      "cell_type": "code",
      "source": [
        "MATRIX.ndim"
      ],
      "metadata": {
        "colab": {
          "base_uri": "https://localhost:8080/"
        },
        "id": "VhPe24njWagz",
        "outputId": "81147369-0741-43a4-a7d0-e1d6a77331f4"
      },
      "execution_count": null,
      "outputs": [
        {
          "output_type": "execute_result",
          "data": {
            "text/plain": [
              "2"
            ]
          },
          "metadata": {},
          "execution_count": 26
        }
      ]
    },
    {
      "cell_type": "code",
      "source": [
        "MATRIX[1]"
      ],
      "metadata": {
        "colab": {
          "base_uri": "https://localhost:8080/"
        },
        "id": "dx025814WgDr",
        "outputId": "e203aafc-4004-4017-d75e-fae1018a6f4b"
      },
      "execution_count": null,
      "outputs": [
        {
          "output_type": "execute_result",
          "data": {
            "text/plain": [
              "tensor([3, 4])"
            ]
          },
          "metadata": {},
          "execution_count": 27
        }
      ]
    },
    {
      "cell_type": "code",
      "source": [
        "MATRIX.shape"
      ],
      "metadata": {
        "colab": {
          "base_uri": "https://localhost:8080/"
        },
        "id": "Q6EP4kaGWjMH",
        "outputId": "bb2ddf97-0c57-4097-b0d4-92f62f6d4e9f"
      },
      "execution_count": null,
      "outputs": [
        {
          "output_type": "execute_result",
          "data": {
            "text/plain": [
              "torch.Size([2, 2])"
            ]
          },
          "metadata": {},
          "execution_count": 28
        }
      ]
    },
    {
      "cell_type": "markdown",
      "source": [
        "Generally in tensors scalars are represented by lower case letters like 'a', vectors are represented by lower case letters like 'y', matrix is represented by upper case letters like 'Q' and tenosrs are represented by upper case letters like 'X'"
      ],
      "metadata": {
        "id": "dg9dG2OzX2sq"
      }
    },
    {
      "cell_type": "code",
      "source": [
        "#Random Tensors\n",
        "#random tensors are important because the way many neural networks learn is that they start with tensors full random numbers and then adjust the random numbers to better represent the data\n",
        "random_tensor = torch.rand(3, 4)\n",
        "random_tensor"
      ],
      "metadata": {
        "colab": {
          "base_uri": "https://localhost:8080/"
        },
        "id": "FmX5uLXPYRKK",
        "outputId": "e3cbdffd-365e-422e-bafc-e328f5c6daa9"
      },
      "execution_count": null,
      "outputs": [
        {
          "output_type": "execute_result",
          "data": {
            "text/plain": [
              "tensor([[0.8006, 0.7697, 0.5569, 0.2465],\n",
              "        [0.0328, 0.5557, 0.7326, 0.7765],\n",
              "        [0.4748, 0.9311, 0.5612, 0.8955]])"
            ]
          },
          "metadata": {},
          "execution_count": 29
        }
      ]
    },
    {
      "cell_type": "code",
      "source": [
        "#create a random tensor with similar shape to an image tensor\n",
        "random_image_tensor = torch.rand(size=(224, 224, 3)) # height, width, color channels(R, G, B)\n",
        "random_image_tensor"
      ],
      "metadata": {
        "colab": {
          "base_uri": "https://localhost:8080/"
        },
        "id": "Vktzx-fEZ_B_",
        "outputId": "e1924f94-0c93-472c-cf74-451ab8cba701"
      },
      "execution_count": null,
      "outputs": [
        {
          "output_type": "execute_result",
          "data": {
            "text/plain": [
              "tensor([[[0.3724, 0.8430, 0.8292],\n",
              "         [0.5683, 0.2667, 0.7196],\n",
              "         [0.4645, 0.3085, 0.7044],\n",
              "         ...,\n",
              "         [0.1470, 0.9230, 0.6880],\n",
              "         [0.5125, 0.2662, 0.2900],\n",
              "         [0.6446, 0.3978, 0.6927]],\n",
              "\n",
              "        [[0.4587, 0.0367, 0.9382],\n",
              "         [0.8606, 0.1024, 0.1851],\n",
              "         [0.1515, 0.8189, 0.2133],\n",
              "         ...,\n",
              "         [0.3912, 0.5463, 0.5551],\n",
              "         [0.2635, 0.6979, 0.7533],\n",
              "         [0.0675, 0.2139, 0.9902]],\n",
              "\n",
              "        [[0.1669, 0.8991, 0.2256],\n",
              "         [0.3666, 0.7659, 0.3456],\n",
              "         [0.3750, 0.8360, 0.9508],\n",
              "         ...,\n",
              "         [0.6783, 0.2311, 0.1425],\n",
              "         [0.0947, 0.7229, 0.0422],\n",
              "         [0.2886, 0.5955, 0.3480]],\n",
              "\n",
              "        ...,\n",
              "\n",
              "        [[0.4374, 0.1912, 0.5600],\n",
              "         [0.0446, 0.8805, 0.2974],\n",
              "         [0.2969, 0.4474, 0.7895],\n",
              "         ...,\n",
              "         [0.4585, 0.2583, 0.4704],\n",
              "         [0.9329, 0.3593, 0.3067],\n",
              "         [0.7583, 0.2178, 0.1960]],\n",
              "\n",
              "        [[0.8995, 0.7350, 0.3348],\n",
              "         [0.0744, 0.7123, 0.8582],\n",
              "         [0.4993, 0.3299, 0.9289],\n",
              "         ...,\n",
              "         [0.7278, 0.4907, 0.0216],\n",
              "         [0.9560, 0.4610, 0.4959],\n",
              "         [0.1474, 0.0615, 0.9549]],\n",
              "\n",
              "        [[0.7293, 0.1006, 0.3365],\n",
              "         [0.6761, 0.3607, 0.3759],\n",
              "         [0.3789, 0.7107, 0.5633],\n",
              "         ...,\n",
              "         [0.9053, 0.1506, 0.4032],\n",
              "         [0.8127, 0.0039, 0.8714],\n",
              "         [0.0982, 0.0825, 0.9719]]])"
            ]
          },
          "metadata": {},
          "execution_count": 30
        }
      ]
    },
    {
      "cell_type": "code",
      "source": [
        "random_image_tensor.ndim"
      ],
      "metadata": {
        "colab": {
          "base_uri": "https://localhost:8080/"
        },
        "id": "x_QjTIekaejR",
        "outputId": "2e059aff-47de-430f-f389-3ebd554ae990"
      },
      "execution_count": null,
      "outputs": [
        {
          "output_type": "execute_result",
          "data": {
            "text/plain": [
              "3"
            ]
          },
          "metadata": {},
          "execution_count": 31
        }
      ]
    },
    {
      "cell_type": "markdown",
      "source": [
        "***Zeros and Ones***"
      ],
      "metadata": {
        "id": "wCufZA3ybQCl"
      }
    },
    {
      "cell_type": "code",
      "source": [
        "zeros = torch.zeros(size=(3, 4))\n",
        "zeros"
      ],
      "metadata": {
        "colab": {
          "base_uri": "https://localhost:8080/"
        },
        "id": "nmVyM4NQbfSn",
        "outputId": "e996c38d-04b4-4e57-e8c7-7d4568e0a25b"
      },
      "execution_count": null,
      "outputs": [
        {
          "output_type": "execute_result",
          "data": {
            "text/plain": [
              "tensor([[0., 0., 0., 0.],\n",
              "        [0., 0., 0., 0.],\n",
              "        [0., 0., 0., 0.]])"
            ]
          },
          "metadata": {},
          "execution_count": 32
        }
      ]
    },
    {
      "cell_type": "code",
      "source": [
        "#creat6e tensor of ones\n",
        "ones = torch.ones(size=(3, 4))\n",
        "ones"
      ],
      "metadata": {
        "colab": {
          "base_uri": "https://localhost:8080/"
        },
        "id": "lve0jK-2buYm",
        "outputId": "b44fdcd8-b3a2-42f9-c03d-2c94e23ddccb"
      },
      "execution_count": null,
      "outputs": [
        {
          "output_type": "execute_result",
          "data": {
            "text/plain": [
              "tensor([[1., 1., 1., 1.],\n",
              "        [1., 1., 1., 1.],\n",
              "        [1., 1., 1., 1.]])"
            ]
          },
          "metadata": {},
          "execution_count": 33
        }
      ]
    },
    {
      "cell_type": "code",
      "source": [
        "#data type\n",
        "ones.dtype"
      ],
      "metadata": {
        "colab": {
          "base_uri": "https://localhost:8080/"
        },
        "id": "UxfQWNj-cCb6",
        "outputId": "ff6ec2b1-5273-4ca9-b5e7-36a61b1ef6ef"
      },
      "execution_count": null,
      "outputs": [
        {
          "output_type": "execute_result",
          "data": {
            "text/plain": [
              "torch.float32"
            ]
          },
          "metadata": {},
          "execution_count": 34
        }
      ]
    },
    {
      "cell_type": "markdown",
      "source": [
        "Creating a range of tensors and tensors-like\n"
      ],
      "metadata": {
        "id": "bZzfzJ1ScReH"
      }
    },
    {
      "cell_type": "code",
      "source": [
        "#use torch.arange()\n",
        "torch.arange(0, 10)"
      ],
      "metadata": {
        "colab": {
          "base_uri": "https://localhost:8080/"
        },
        "id": "Z8spzaSscW1L",
        "outputId": "a2263884-2ab3-44a2-ba55-4567c20784f2"
      },
      "execution_count": null,
      "outputs": [
        {
          "output_type": "execute_result",
          "data": {
            "text/plain": [
              "tensor([0, 1, 2, 3, 4, 5, 6, 7, 8, 9])"
            ]
          },
          "metadata": {},
          "execution_count": 35
        }
      ]
    },
    {
      "cell_type": "code",
      "source": [
        "one_to_ten = torch.arange(start=1, end = 11, step=1)\n",
        "one_to_ten"
      ],
      "metadata": {
        "colab": {
          "base_uri": "https://localhost:8080/"
        },
        "id": "HSMU2WYDc6UO",
        "outputId": "41565422-ad2b-446b-f895-e74726ccaad9"
      },
      "execution_count": null,
      "outputs": [
        {
          "output_type": "execute_result",
          "data": {
            "text/plain": [
              "tensor([ 1,  2,  3,  4,  5,  6,  7,  8,  9, 10])"
            ]
          },
          "metadata": {},
          "execution_count": 36
        }
      ]
    },
    {
      "cell_type": "code",
      "source": [
        "#creating tenors like\n",
        "ten_zeros = torch.zeros_like(input = one_to_ten)\n",
        "ten_zeros"
      ],
      "metadata": {
        "colab": {
          "base_uri": "https://localhost:8080/"
        },
        "id": "untmpknwd5WI",
        "outputId": "ce59377e-d7e5-4b68-ede9-97cc60de0640"
      },
      "execution_count": null,
      "outputs": [
        {
          "output_type": "execute_result",
          "data": {
            "text/plain": [
              "tensor([0, 0, 0, 0, 0, 0, 0, 0, 0, 0])"
            ]
          },
          "metadata": {},
          "execution_count": 37
        }
      ]
    },
    {
      "cell_type": "code",
      "source": [
        "#Tensor datatypes\n",
        "#Float 32 tensor\n",
        "float_32_tensor = torch.tensor([3.0, 4.0, 7.0], dtype=None,#datatype whether float or int\n",
        "                               device=None,  #running on which device cpu or gpu\n",
        "                               requires_grad=False ) #to keep track of gradient descent or not\n",
        "float_32_tensor"
      ],
      "metadata": {
        "colab": {
          "base_uri": "https://localhost:8080/"
        },
        "id": "lNStp1i4e9Hq",
        "outputId": "1f8a0307-04c2-4693-ceb1-9770670664c4"
      },
      "execution_count": null,
      "outputs": [
        {
          "output_type": "execute_result",
          "data": {
            "text/plain": [
              "tensor([3., 4., 7.])"
            ]
          },
          "metadata": {},
          "execution_count": 38
        }
      ]
    },
    {
      "cell_type": "code",
      "source": [
        "float_32_tensor.dtype"
      ],
      "metadata": {
        "colab": {
          "base_uri": "https://localhost:8080/"
        },
        "id": "41eq1qTOgv70",
        "outputId": "c15ea976-5f30-4fb5-c9df-1cd58c120d25"
      },
      "execution_count": null,
      "outputs": [
        {
          "output_type": "execute_result",
          "data": {
            "text/plain": [
              "torch.float32"
            ]
          },
          "metadata": {},
          "execution_count": 39
        }
      ]
    },
    {
      "cell_type": "code",
      "source": [
        "float_16_tensor = float_32_tensor.type(torch.float16)\n",
        "float_16_tensor\n"
      ],
      "metadata": {
        "colab": {
          "base_uri": "https://localhost:8080/"
        },
        "id": "IFLRnYygg0aJ",
        "outputId": "741f4411-bd9e-4b99-e227-7028366e700b"
      },
      "execution_count": null,
      "outputs": [
        {
          "output_type": "execute_result",
          "data": {
            "text/plain": [
              "tensor([3., 4., 7.], dtype=torch.float16)"
            ]
          },
          "metadata": {},
          "execution_count": 40
        }
      ]
    },
    {
      "cell_type": "code",
      "source": [
        "float_16_tensor*float_32_tensor"
      ],
      "metadata": {
        "colab": {
          "base_uri": "https://localhost:8080/"
        },
        "id": "ssPTfeb-U6cR",
        "outputId": "e95f1cb7-bf02-4226-8108-3039475d8cc8"
      },
      "execution_count": null,
      "outputs": [
        {
          "output_type": "execute_result",
          "data": {
            "text/plain": [
              "tensor([ 9., 16., 49.])"
            ]
          },
          "metadata": {},
          "execution_count": 41
        }
      ]
    },
    {
      "cell_type": "code",
      "source": [
        "int_32_tensor = torch.tensor([3, 6, 9], dtype = torch.int32)\n",
        "int_32_tensor"
      ],
      "metadata": {
        "colab": {
          "base_uri": "https://localhost:8080/"
        },
        "id": "peKNaP5fVImX",
        "outputId": "34b7b505-01ec-433c-ac5c-324756755ca2"
      },
      "execution_count": null,
      "outputs": [
        {
          "output_type": "execute_result",
          "data": {
            "text/plain": [
              "tensor([3, 6, 9], dtype=torch.int32)"
            ]
          },
          "metadata": {},
          "execution_count": 42
        }
      ]
    },
    {
      "cell_type": "markdown",
      "source": [
        "**Getting information from tensors(tensor attributes)**\n",
        "1. tenosr.dtype -gives info about data rype of tensor\n",
        "2. tensor.shape - gives the shape of the tensor\n",
        "3. tensor.device - gives info about on which device the code is running(cpu or gpu etc)"
      ],
      "metadata": {
        "id": "hDVLkre2V7jZ"
      }
    },
    {
      "cell_type": "code",
      "source": [
        "some_tensor = torch.rand(3,4)\n",
        "print(some_tensor)\n",
        "print(f\"Dtatype of tensor: {some_tensor.dtype}\")\n",
        "print(f\"Shape of tensor: {some_tensor.shape}\")\n",
        "print(f\"Device tensor is on: {some_tensor.device}\")"
      ],
      "metadata": {
        "colab": {
          "base_uri": "https://localhost:8080/"
        },
        "id": "-HLhYk9HWThN",
        "outputId": "efefea4d-7732-42b8-b03e-706468ac3dd9"
      },
      "execution_count": null,
      "outputs": [
        {
          "output_type": "stream",
          "name": "stdout",
          "text": [
            "tensor([[0.1679, 0.8282, 0.2183, 0.2290],\n",
            "        [0.3181, 0.0833, 0.9110, 0.8568],\n",
            "        [0.5930, 0.5144, 0.7196, 0.0595]])\n",
            "Dtatype of tensor: torch.float32\n",
            "Shape of tensor: torch.Size([3, 4])\n",
            "Device tensor is on: cpu\n"
          ]
        }
      ]
    },
    {
      "cell_type": "code",
      "source": [
        "#Manipulating tensors(Tensor operations)\n",
        "#create a tensor and 10 to it\n",
        "tensor = torch.tensor([1, 2, 3])\n",
        "tensor + 10 #can also write as torch.add(torch, 10)"
      ],
      "metadata": {
        "colab": {
          "base_uri": "https://localhost:8080/"
        },
        "id": "dYOIMFLzXCx2",
        "outputId": "07a4355a-a54a-455f-9c38-2a8dc6005d43"
      },
      "execution_count": null,
      "outputs": [
        {
          "output_type": "execute_result",
          "data": {
            "text/plain": [
              "tensor([11, 12, 13])"
            ]
          },
          "metadata": {},
          "execution_count": 44
        }
      ]
    },
    {
      "cell_type": "code",
      "source": [
        "#multiply tensor by 10\n",
        "tensor * 10\n",
        "print(tensor)\n",
        "#reasigning tensor\n",
        "tensor = tensor * 10 #can also write as torch.mul(tensor, 10)\n",
        "print(tensor)"
      ],
      "metadata": {
        "colab": {
          "base_uri": "https://localhost:8080/"
        },
        "id": "ygUWhSy3YFTl",
        "outputId": "3bc2087d-0718-4eec-b879-6cbaca27e9bd"
      },
      "execution_count": null,
      "outputs": [
        {
          "output_type": "stream",
          "name": "stdout",
          "text": [
            "tensor([1, 2, 3])\n",
            "tensor([10, 20, 30])\n"
          ]
        }
      ]
    },
    {
      "cell_type": "code",
      "source": [
        "#substraction\n",
        "tensor = tensor - 10\n",
        "tensor"
      ],
      "metadata": {
        "colab": {
          "base_uri": "https://localhost:8080/"
        },
        "id": "1stlrtUcYpF7",
        "outputId": "28c793e3-9b9b-40c0-e2fe-24afee760221"
      },
      "execution_count": null,
      "outputs": [
        {
          "output_type": "execute_result",
          "data": {
            "text/plain": [
              "tensor([ 0, 10, 20])"
            ]
          },
          "metadata": {},
          "execution_count": 46
        }
      ]
    },
    {
      "cell_type": "markdown",
      "source": [
        "**Matrix Multiplication**\n",
        "\n",
        "There are two types of multiplications in neural networks and deep learning\n",
        "\n",
        "1.Element wise multiplication\n",
        "\n",
        "2.Matrix Multiplication(dot product)"
      ],
      "metadata": {
        "id": "Ym1nDv8sZ-P4"
      }
    },
    {
      "cell_type": "code",
      "source": [
        "tensor = torch.tensor([1, 2, 3])\n",
        "#Element wise multiplication\n",
        "print(tensor, \"*\", tensor)\n",
        "print(f\"Equals: {tensor* tensor}\")"
      ],
      "metadata": {
        "colab": {
          "base_uri": "https://localhost:8080/"
        },
        "id": "JePbh1pYaUc6",
        "outputId": "d88c8056-ca91-4690-abf8-ebaa50578d4b"
      },
      "execution_count": null,
      "outputs": [
        {
          "output_type": "stream",
          "name": "stdout",
          "text": [
            "tensor([1, 2, 3]) * tensor([1, 2, 3])\n",
            "Equals: tensor([1, 4, 9])\n"
          ]
        }
      ]
    },
    {
      "cell_type": "code",
      "source": [
        "#matrix multiplication\n",
        "%%time\n",
        "torch.matmul(tensor, tensor)"
      ],
      "metadata": {
        "colab": {
          "base_uri": "https://localhost:8080/"
        },
        "id": "UF5-wUgHav0b",
        "outputId": "92ff5a3d-54dd-4ce9-f19a-7272d358e52e"
      },
      "execution_count": null,
      "outputs": [
        {
          "output_type": "stream",
          "name": "stdout",
          "text": [
            "CPU times: user 944 µs, sys: 0 ns, total: 944 µs\n",
            "Wall time: 896 µs\n"
          ]
        },
        {
          "output_type": "execute_result",
          "data": {
            "text/plain": [
              "tensor(14)"
            ]
          },
          "metadata": {},
          "execution_count": 48
        }
      ]
    },
    {
      "cell_type": "code",
      "source": [
        "tensor_A = torch.tensor([[1, 2],\n",
        "                         [3, 4],\n",
        "                         [5, 6]])\n",
        "tensor_B = torch.tensor([[7, 10],\n",
        "                         [8, 11],\n",
        "                         [9, 12]])\n",
        "output = torch.matmul(tensor_A, tensor_B.T)\n",
        "print(output)\n",
        "print(f\"shape is \",output.shape)"
      ],
      "metadata": {
        "id": "UIso9IaIb0mc",
        "colab": {
          "base_uri": "https://localhost:8080/"
        },
        "outputId": "b4dd739c-8e00-4a77-f710-a320aa157e8f"
      },
      "execution_count": null,
      "outputs": [
        {
          "output_type": "stream",
          "name": "stdout",
          "text": [
            "tensor([[ 27,  30,  33],\n",
            "        [ 61,  68,  75],\n",
            "        [ 95, 106, 117]])\n",
            "shape is  torch.Size([3, 3])\n"
          ]
        }
      ]
    },
    {
      "cell_type": "code",
      "source": [
        "#To fix our tensor shape issues we can manipulate tensors using transpose\n",
        "tensor_B.T, tensor_B"
      ],
      "metadata": {
        "colab": {
          "base_uri": "https://localhost:8080/"
        },
        "id": "qNVbQcFhBeqk",
        "outputId": "2ce1cbb7-e07a-4ade-be05-b3ee3ff10c3d"
      },
      "execution_count": null,
      "outputs": [
        {
          "output_type": "execute_result",
          "data": {
            "text/plain": [
              "(tensor([[ 7,  8,  9],\n",
              "         [10, 11, 12]]),\n",
              " tensor([[ 7, 10],\n",
              "         [ 8, 11],\n",
              "         [ 9, 12]]))"
            ]
          },
          "metadata": {},
          "execution_count": 50
        }
      ]
    },
    {
      "cell_type": "markdown",
      "source": [
        "**Finding the min, max, mean, sum, etc(tensor aggregation)**"
      ],
      "metadata": {
        "id": "g6csuRjMDsBP"
      }
    },
    {
      "cell_type": "code",
      "source": [
        "x = torch.arange(0, 100, 10)\n",
        "x, x.dtype"
      ],
      "metadata": {
        "colab": {
          "base_uri": "https://localhost:8080/"
        },
        "id": "hsOloYGzDoUa",
        "outputId": "c53e0ff4-10d8-4b61-f4a5-d1a076e07752"
      },
      "execution_count": null,
      "outputs": [
        {
          "output_type": "execute_result",
          "data": {
            "text/plain": [
              "(tensor([ 0, 10, 20, 30, 40, 50, 60, 70, 80, 90]), torch.int64)"
            ]
          },
          "metadata": {},
          "execution_count": 51
        }
      ]
    },
    {
      "cell_type": "code",
      "source": [
        "#finding the min\n",
        "torch.min(x), x.min()"
      ],
      "metadata": {
        "colab": {
          "base_uri": "https://localhost:8080/"
        },
        "id": "lN0UQtZFD9UT",
        "outputId": "7d601b1d-5f2c-475b-e728-3b6737cb24bd"
      },
      "execution_count": null,
      "outputs": [
        {
          "output_type": "execute_result",
          "data": {
            "text/plain": [
              "(tensor(0), tensor(0))"
            ]
          },
          "metadata": {},
          "execution_count": 52
        }
      ]
    },
    {
      "cell_type": "code",
      "source": [
        "#finding the max\n",
        "torch.max(x), x.max()"
      ],
      "metadata": {
        "colab": {
          "base_uri": "https://localhost:8080/"
        },
        "id": "6R1vrPonEFH1",
        "outputId": "06f3b3d4-38a7-4c37-d665-5bfed12b221b"
      },
      "execution_count": null,
      "outputs": [
        {
          "output_type": "execute_result",
          "data": {
            "text/plain": [
              "(tensor(90), tensor(90))"
            ]
          },
          "metadata": {},
          "execution_count": 53
        }
      ]
    },
    {
      "cell_type": "code",
      "source": [
        "#finding the mean\n",
        "torch.mean(x.type(torch.float32)), x.type(torch.float32).mean()"
      ],
      "metadata": {
        "colab": {
          "base_uri": "https://localhost:8080/"
        },
        "id": "3tpn0j2OEKiF",
        "outputId": "7cf8b921-2923-4521-9519-1df4e5d0589f"
      },
      "execution_count": null,
      "outputs": [
        {
          "output_type": "execute_result",
          "data": {
            "text/plain": [
              "(tensor(45.), tensor(45.))"
            ]
          },
          "metadata": {},
          "execution_count": 54
        }
      ]
    },
    {
      "cell_type": "code",
      "source": [
        "#Find the sum\n",
        "torch.sum(x), x.sum()"
      ],
      "metadata": {
        "colab": {
          "base_uri": "https://localhost:8080/"
        },
        "id": "SZJHGApkE6hs",
        "outputId": "473e56bc-990e-41f7-f042-08648ea3c3b4"
      },
      "execution_count": null,
      "outputs": [
        {
          "output_type": "execute_result",
          "data": {
            "text/plain": [
              "(tensor(450), tensor(450))"
            ]
          },
          "metadata": {},
          "execution_count": 55
        }
      ]
    },
    {
      "cell_type": "markdown",
      "source": [
        "Finding the positional min and max"
      ],
      "metadata": {
        "id": "hesL9WmXFaQH"
      }
    },
    {
      "cell_type": "code",
      "source": [
        "#find the position in tensor that has min value => the index at which min value occurs\n",
        "x.argmin()"
      ],
      "metadata": {
        "colab": {
          "base_uri": "https://localhost:8080/"
        },
        "id": "WshrI9C6FdcB",
        "outputId": "1b0ef1fd-1d9c-4622-e9fd-803c52899316"
      },
      "execution_count": null,
      "outputs": [
        {
          "output_type": "execute_result",
          "data": {
            "text/plain": [
              "tensor(0)"
            ]
          },
          "metadata": {},
          "execution_count": 56
        }
      ]
    },
    {
      "cell_type": "code",
      "source": [
        "#find the position of tensor that has max value => the index at which max value is present\n",
        "x.argmax()"
      ],
      "metadata": {
        "colab": {
          "base_uri": "https://localhost:8080/"
        },
        "id": "XUA4dwudFvMa",
        "outputId": "d52b49a2-03d2-47f5-87e2-e021ec1d8ea1"
      },
      "execution_count": null,
      "outputs": [
        {
          "output_type": "execute_result",
          "data": {
            "text/plain": [
              "tensor(9)"
            ]
          },
          "metadata": {},
          "execution_count": 57
        }
      ]
    },
    {
      "cell_type": "markdown",
      "source": [
        "**Reshaping, Stacking, Squeezing and Unsqueezing tensors**\n",
        "\n",
        "Reshaping - reshapes the input tensor to defined shape\n",
        "\n",
        "View - returns a view of an input tensor of certain shape but keep the same memory as the poriginal\n",
        "\n",
        "Stacking - combine multiple tensors on top of each other (vstack) or side by side (hstack)\n",
        "\n",
        "squeeze - removes all 'l' dimensions from a tensor\n",
        "\n",
        "Unsqueeze - add a 'l' dimension to a target tensor\n",
        "\n",
        "Permute - return a view of the input with dimensions permutted(swapped in a certain way)"
      ],
      "metadata": {
        "id": "nRYD6WxXGd-C"
      }
    },
    {
      "cell_type": "code",
      "source": [
        "#Let's create a tensor\n",
        "import torch\n",
        "x = torch.arange(1., 10.)\n",
        "x, x.shape"
      ],
      "metadata": {
        "colab": {
          "base_uri": "https://localhost:8080/"
        },
        "id": "5NWEYdcRGMZI",
        "outputId": "02a3fbf8-3656-4536-e7d9-6396f6d12748"
      },
      "execution_count": null,
      "outputs": [
        {
          "output_type": "execute_result",
          "data": {
            "text/plain": [
              "(tensor([1., 2., 3., 4., 5., 6., 7., 8., 9.]), torch.Size([9]))"
            ]
          },
          "metadata": {},
          "execution_count": 58
        }
      ]
    },
    {
      "cell_type": "code",
      "source": [
        "#Add an extra dimension\n",
        "x_reshaped = x.reshape(9, 1)\n",
        "x_reshaped, x_reshaped.shape"
      ],
      "metadata": {
        "colab": {
          "base_uri": "https://localhost:8080/"
        },
        "id": "axOVqrbOH4YV",
        "outputId": "e1a6fe4e-7686-45d1-d7ae-0264f21cc1b9"
      },
      "execution_count": null,
      "outputs": [
        {
          "output_type": "execute_result",
          "data": {
            "text/plain": [
              "(tensor([[1.],\n",
              "         [2.],\n",
              "         [3.],\n",
              "         [4.],\n",
              "         [5.],\n",
              "         [6.],\n",
              "         [7.],\n",
              "         [8.],\n",
              "         [9.]]),\n",
              " torch.Size([9, 1]))"
            ]
          },
          "metadata": {},
          "execution_count": 59
        }
      ]
    },
    {
      "cell_type": "code",
      "source": [
        "#change the view\n",
        "z = x.view(1, 9)\n",
        "z, z.shape"
      ],
      "metadata": {
        "colab": {
          "base_uri": "https://localhost:8080/"
        },
        "id": "q9Q8pQ_XIO-6",
        "outputId": "07d8b396-600d-42ad-f3ac-e06705bd755a"
      },
      "execution_count": null,
      "outputs": [
        {
          "output_type": "execute_result",
          "data": {
            "text/plain": [
              "(tensor([[1., 2., 3., 4., 5., 6., 7., 8., 9.]]), torch.Size([1, 9]))"
            ]
          },
          "metadata": {},
          "execution_count": 60
        }
      ]
    },
    {
      "cell_type": "code",
      "source": [
        "#changing z changes x(because a view of a tensor shares memory as the original tensor)\n",
        "z[:, 0] = 5\n",
        "z, x"
      ],
      "metadata": {
        "colab": {
          "base_uri": "https://localhost:8080/"
        },
        "id": "F-ZhOO-_JGPE",
        "outputId": "f8e91639-2406-4498-ecb1-853e4917d093"
      },
      "execution_count": null,
      "outputs": [
        {
          "output_type": "execute_result",
          "data": {
            "text/plain": [
              "(tensor([[5., 2., 3., 4., 5., 6., 7., 8., 9.]]),\n",
              " tensor([5., 2., 3., 4., 5., 6., 7., 8., 9.]))"
            ]
          },
          "metadata": {},
          "execution_count": 61
        }
      ]
    },
    {
      "cell_type": "code",
      "source": [
        "#stack tensors on top of each other\n",
        "x_stacked = torch.stack([x, x, x, x], dim = 0)\n",
        "x_stacked"
      ],
      "metadata": {
        "colab": {
          "base_uri": "https://localhost:8080/"
        },
        "id": "m6-v1IFHKH5y",
        "outputId": "862ef109-045d-4e63-9b27-547da59c44b4"
      },
      "execution_count": null,
      "outputs": [
        {
          "output_type": "execute_result",
          "data": {
            "text/plain": [
              "tensor([[5., 2., 3., 4., 5., 6., 7., 8., 9.],\n",
              "        [5., 2., 3., 4., 5., 6., 7., 8., 9.],\n",
              "        [5., 2., 3., 4., 5., 6., 7., 8., 9.],\n",
              "        [5., 2., 3., 4., 5., 6., 7., 8., 9.]])"
            ]
          },
          "metadata": {},
          "execution_count": 62
        }
      ]
    },
    {
      "cell_type": "code",
      "source": [
        "#torch.squeeze() - removes all single dimensions from a target tensor\n",
        "x_squeezed = x_reshaped.squeeze()\n",
        "print(f\"squeezed tensor:\", x_squeezed ),\n",
        "print(f\"squeezed tensor shape:\", x_reshaped.squeeze().shape),\n",
        "\n",
        "print(f\"original tensor:\", x_reshaped),\n",
        "print(f\"original tensor shape:\", x_reshaped.shape)"
      ],
      "metadata": {
        "colab": {
          "base_uri": "https://localhost:8080/"
        },
        "id": "KshGSTXTK9ET",
        "outputId": "99aabb4a-ee2b-499a-bdf1-6b6b77600f7f"
      },
      "execution_count": null,
      "outputs": [
        {
          "output_type": "stream",
          "name": "stdout",
          "text": [
            "squeezed tensor: tensor([5., 2., 3., 4., 5., 6., 7., 8., 9.])\n",
            "squeezed tensor shape: torch.Size([9])\n",
            "original tensor: tensor([[5.],\n",
            "        [2.],\n",
            "        [3.],\n",
            "        [4.],\n",
            "        [5.],\n",
            "        [6.],\n",
            "        [7.],\n",
            "        [8.],\n",
            "        [9.]])\n",
            "original tensor shape: torch.Size([9, 1])\n"
          ]
        }
      ]
    },
    {
      "cell_type": "code",
      "source": [
        "#torch.unsqueeze() - adds a single dimension to the target tensor at specific dimension\n",
        "print(f\"previous target:\", x_squeezed)\n",
        "#Add an extra dimension usoing unsqueeze\n",
        "x_unsqueezed = x_squeezed.unsqueeze(dim=1)\n",
        "print(f\"new unsqueed tensor:\", x_unsqueezed)\n",
        "print(f\"new unsqueezed tensor shape:\", x_unsqueezed.shape)"
      ],
      "metadata": {
        "colab": {
          "base_uri": "https://localhost:8080/"
        },
        "id": "pnkejzJFMGBa",
        "outputId": "38c24283-11cd-456b-ee39-b595b8013c4b"
      },
      "execution_count": null,
      "outputs": [
        {
          "output_type": "stream",
          "name": "stdout",
          "text": [
            "previous target: tensor([5., 2., 3., 4., 5., 6., 7., 8., 9.])\n",
            "new unsqueed tensor: tensor([[5.],\n",
            "        [2.],\n",
            "        [3.],\n",
            "        [4.],\n",
            "        [5.],\n",
            "        [6.],\n",
            "        [7.],\n",
            "        [8.],\n",
            "        [9.]])\n",
            "new unsqueezed tensor shape: torch.Size([9, 1])\n"
          ]
        }
      ]
    },
    {
      "cell_type": "code",
      "source": [
        "#torch.permute - rearranges the dimensions of a target tensor in a specified order\n",
        "x_original = torch.rand(size=(224, 224, 3))\n",
        "print(f\"original tensor:\",x_original)\n",
        "#permute the original tensor to rearrange the axis(or dim) order\n",
        "x_permuted = x_original.permute(2, 0, 1) # shifts axis 0->1, 1->2 , 2->0\n",
        "print(f\"permuted tensor:\", x_permuted)"
      ],
      "metadata": {
        "colab": {
          "base_uri": "https://localhost:8080/"
        },
        "id": "UrkcpMewNu8I",
        "outputId": "870a9b5d-a017-4853-bb26-641a23e6a909"
      },
      "execution_count": null,
      "outputs": [
        {
          "output_type": "stream",
          "name": "stdout",
          "text": [
            "original tensor: tensor([[[0.9044, 0.7812, 0.3206],\n",
            "         [0.9784, 0.7111, 0.2434],\n",
            "         [0.0186, 0.4555, 0.0490],\n",
            "         ...,\n",
            "         [0.8876, 0.3000, 0.9270],\n",
            "         [0.9432, 0.0271, 0.8053],\n",
            "         [0.4409, 0.7754, 0.1145]],\n",
            "\n",
            "        [[0.9912, 0.3689, 0.9483],\n",
            "         [0.5311, 0.0873, 0.0785],\n",
            "         [0.1323, 0.6806, 0.9621],\n",
            "         ...,\n",
            "         [0.6959, 0.1186, 0.1185],\n",
            "         [0.5151, 0.7933, 0.6888],\n",
            "         [0.1835, 0.0647, 0.4881]],\n",
            "\n",
            "        [[0.5048, 0.1050, 0.2488],\n",
            "         [0.5387, 0.9737, 0.6301],\n",
            "         [0.1824, 0.0625, 0.0331],\n",
            "         ...,\n",
            "         [0.2364, 0.9212, 0.2821],\n",
            "         [0.1078, 0.8230, 0.4706],\n",
            "         [0.9640, 0.6698, 0.5482]],\n",
            "\n",
            "        ...,\n",
            "\n",
            "        [[0.7046, 0.7611, 0.4602],\n",
            "         [0.7198, 0.9269, 0.3760],\n",
            "         [0.0045, 0.6209, 0.4096],\n",
            "         ...,\n",
            "         [0.9257, 0.8001, 0.2396],\n",
            "         [0.1942, 0.2725, 0.8598],\n",
            "         [0.3257, 0.1416, 0.4323]],\n",
            "\n",
            "        [[0.1356, 0.1826, 0.9919],\n",
            "         [0.6943, 0.6131, 0.3985],\n",
            "         [0.2845, 0.5360, 0.6507],\n",
            "         ...,\n",
            "         [0.7440, 0.7252, 0.4844],\n",
            "         [0.0963, 0.0042, 0.7402],\n",
            "         [0.2187, 0.3062, 0.1816]],\n",
            "\n",
            "        [[0.8246, 0.9216, 0.6485],\n",
            "         [0.2276, 0.4773, 0.1566],\n",
            "         [0.7468, 0.8352, 0.0936],\n",
            "         ...,\n",
            "         [0.5787, 0.8458, 0.1395],\n",
            "         [0.3023, 0.2514, 0.3744],\n",
            "         [0.6613, 0.8301, 0.8854]]])\n",
            "permuted tensor: tensor([[[0.9044, 0.9784, 0.0186,  ..., 0.8876, 0.9432, 0.4409],\n",
            "         [0.9912, 0.5311, 0.1323,  ..., 0.6959, 0.5151, 0.1835],\n",
            "         [0.5048, 0.5387, 0.1824,  ..., 0.2364, 0.1078, 0.9640],\n",
            "         ...,\n",
            "         [0.7046, 0.7198, 0.0045,  ..., 0.9257, 0.1942, 0.3257],\n",
            "         [0.1356, 0.6943, 0.2845,  ..., 0.7440, 0.0963, 0.2187],\n",
            "         [0.8246, 0.2276, 0.7468,  ..., 0.5787, 0.3023, 0.6613]],\n",
            "\n",
            "        [[0.7812, 0.7111, 0.4555,  ..., 0.3000, 0.0271, 0.7754],\n",
            "         [0.3689, 0.0873, 0.6806,  ..., 0.1186, 0.7933, 0.0647],\n",
            "         [0.1050, 0.9737, 0.0625,  ..., 0.9212, 0.8230, 0.6698],\n",
            "         ...,\n",
            "         [0.7611, 0.9269, 0.6209,  ..., 0.8001, 0.2725, 0.1416],\n",
            "         [0.1826, 0.6131, 0.5360,  ..., 0.7252, 0.0042, 0.3062],\n",
            "         [0.9216, 0.4773, 0.8352,  ..., 0.8458, 0.2514, 0.8301]],\n",
            "\n",
            "        [[0.3206, 0.2434, 0.0490,  ..., 0.9270, 0.8053, 0.1145],\n",
            "         [0.9483, 0.0785, 0.9621,  ..., 0.1185, 0.6888, 0.4881],\n",
            "         [0.2488, 0.6301, 0.0331,  ..., 0.2821, 0.4706, 0.5482],\n",
            "         ...,\n",
            "         [0.4602, 0.3760, 0.4096,  ..., 0.2396, 0.8598, 0.4323],\n",
            "         [0.9919, 0.3985, 0.6507,  ..., 0.4844, 0.7402, 0.1816],\n",
            "         [0.6485, 0.1566, 0.0936,  ..., 0.1395, 0.3744, 0.8854]]])\n"
          ]
        }
      ]
    },
    {
      "cell_type": "markdown",
      "source": [
        "**Indexing(Selecting data from tensors)**\n",
        "\n",
        "indexing in pytorch is similar to indexing with Numpy"
      ],
      "metadata": {
        "id": "LhTl3BTGkHYx"
      }
    },
    {
      "cell_type": "code",
      "source": [
        "#create a tensor\n",
        "import torch\n",
        "x = torch.arange(1, 10).reshape(1, 3, 3)\n",
        "x, x.shape"
      ],
      "metadata": {
        "colab": {
          "base_uri": "https://localhost:8080/"
        },
        "id": "yjWQtRjmkV8Q",
        "outputId": "26d232fa-a7c5-4e92-9a67-990fc1a628d6"
      },
      "execution_count": null,
      "outputs": [
        {
          "output_type": "execute_result",
          "data": {
            "text/plain": [
              "(tensor([[[1, 2, 3],\n",
              "          [4, 5, 6],\n",
              "          [7, 8, 9]]]),\n",
              " torch.Size([1, 3, 3]))"
            ]
          },
          "metadata": {},
          "execution_count": 66
        }
      ]
    },
    {
      "cell_type": "code",
      "source": [
        "#Lets index on our new tensor\n",
        "x[0]"
      ],
      "metadata": {
        "colab": {
          "base_uri": "https://localhost:8080/"
        },
        "id": "xfwLDOM7k-vk",
        "outputId": "e3caa919-2472-4125-e2dc-a84f41f51b46"
      },
      "execution_count": null,
      "outputs": [
        {
          "output_type": "execute_result",
          "data": {
            "text/plain": [
              "tensor([[1, 2, 3],\n",
              "        [4, 5, 6],\n",
              "        [7, 8, 9]])"
            ]
          },
          "metadata": {},
          "execution_count": 67
        }
      ]
    },
    {
      "cell_type": "code",
      "source": [
        "#Let's index on the most inner bracket(last dimension)\n",
        "x[0][0][0]"
      ],
      "metadata": {
        "colab": {
          "base_uri": "https://localhost:8080/"
        },
        "id": "borwpuwRlhw4",
        "outputId": "ad4ece5a-8e07-4b47-d217-ff25a2f58625"
      },
      "execution_count": null,
      "outputs": [
        {
          "output_type": "execute_result",
          "data": {
            "text/plain": [
              "tensor(1)"
            ]
          },
          "metadata": {},
          "execution_count": 68
        }
      ]
    },
    {
      "cell_type": "code",
      "source": [
        "#Get all values of 0th and 1st dimensions but only index1 of 2nd dimension\n",
        "print(x[:, :, 1])\n",
        "print(x[:, 1, :])"
      ],
      "metadata": {
        "colab": {
          "base_uri": "https://localhost:8080/"
        },
        "id": "5RYwjOA4mG8V",
        "outputId": "a3a5ea44-6ea1-40fd-c8ed-b8d82bf68e38"
      },
      "execution_count": null,
      "outputs": [
        {
          "output_type": "stream",
          "name": "stdout",
          "text": [
            "tensor([[2, 5, 8]])\n",
            "tensor([[4, 5, 6]])\n"
          ]
        }
      ]
    },
    {
      "cell_type": "markdown",
      "source": [
        "**PyTorch tensors and numpy**\n",
        "\n",
        "Numpy is popular scientific numerical computing library\n",
        "\n",
        "PyTorch has functionality to interact with the numpy\n",
        "\n",
        "->Data in Numpy, want in PyTorch Tensor-> torch.from_numpy(ndarray)\n",
        "\n",
        "->PyTorch tensor->NuPy-> torch.Tensor.numpy()"
      ],
      "metadata": {
        "id": "kR7xeLslS2jh"
      }
    },
    {
      "cell_type": "code",
      "source": [
        "#Numpy Array to tensor\n",
        "import torch\n",
        "import numpy as np\n",
        "\n",
        "array = np.arange(1.0 , 8.0)\n",
        "tensor = torch.from_numpy(array).type(torch.float32)\n",
        "array, tensor"
      ],
      "metadata": {
        "colab": {
          "base_uri": "https://localhost:8080/"
        },
        "id": "6O4z5DptTfEk",
        "outputId": "6fc259cf-ca4e-44bd-eebc-5e0d71628eeb"
      },
      "execution_count": null,
      "outputs": [
        {
          "output_type": "execute_result",
          "data": {
            "text/plain": [
              "(array([1., 2., 3., 4., 5., 6., 7.]), tensor([1., 2., 3., 4., 5., 6., 7.]))"
            ]
          },
          "metadata": {},
          "execution_count": 70
        }
      ]
    },
    {
      "cell_type": "markdown",
      "source": [
        "**Reproducbility(trying to take random out of random)**\n",
        "\n",
        "In Short how neural network learns:\n",
        "\n",
        "start with random numbers -> tensor operations -> update random numbers to try and make them of data -> again -> again -> again ....\n",
        "\n",
        "To reduce randomness in neural networks and PyTorch comes the concept of a random seed\n",
        "\n",
        "Essentially what the random seed does is \"flavour\" the randomness"
      ],
      "metadata": {
        "id": "-yzzzp0m0ucE"
      }
    },
    {
      "cell_type": "code",
      "source": [
        "import torch\n",
        "#create two random tensors\n",
        "random_tensor_A = torch.rand(3, 4)\n",
        "random_tensor_B = torch.rand(3, 4)\n",
        "print(f\"random A tensor: \", random_tensor_A)\n",
        "print(f\"random B tensor: \", random_tensor_B)\n",
        "print(random_tensor_A == random_tensor_B)"
      ],
      "metadata": {
        "colab": {
          "base_uri": "https://localhost:8080/"
        },
        "id": "R7CV29Fp1ci-",
        "outputId": "7955a147-a7ba-41ac-dbe4-5016572927fd"
      },
      "execution_count": null,
      "outputs": [
        {
          "output_type": "stream",
          "name": "stdout",
          "text": [
            "random A tensor:  tensor([[0.7409, 0.7779, 0.3817, 0.0681],\n",
            "        [0.4670, 0.5094, 0.2784, 0.8459],\n",
            "        [0.6512, 0.7808, 0.4627, 0.8655]])\n",
            "random B tensor:  tensor([[0.7318, 0.1986, 0.2425, 0.5675],\n",
            "        [0.2187, 0.6915, 0.5360, 0.4278],\n",
            "        [0.8354, 0.5420, 0.0676, 0.0195]])\n",
            "tensor([[False, False, False, False],\n",
            "        [False, False, False, False],\n",
            "        [False, False, False, False]])\n"
          ]
        }
      ]
    },
    {
      "cell_type": "code",
      "source": [
        "#Let's make random but reproducible tensors\n",
        "import torch\n",
        "#set the random seed\n",
        "RANDOM_SEED = 42\n",
        "torch.manual_seed(RANDOM_SEED)\n",
        "random_tensor_C = torch.rand(3,4)\n",
        "\n",
        "torch.manual_seed(RANDOM_SEED)\n",
        "random_tensor_D = torch.rand(3,4)\n",
        "print(random_tensor_C)\n",
        "print(random_tensor_D)\n",
        "print(random_tensor_C==random_tensor_D)"
      ],
      "metadata": {
        "colab": {
          "base_uri": "https://localhost:8080/"
        },
        "id": "JuOH_qYe0h6Z",
        "outputId": "6cd1e6da-2c87-48d6-bb7f-e450e8a692b9"
      },
      "execution_count": null,
      "outputs": [
        {
          "output_type": "stream",
          "name": "stdout",
          "text": [
            "tensor([[0.8823, 0.9150, 0.3829, 0.9593],\n",
            "        [0.3904, 0.6009, 0.2566, 0.7936],\n",
            "        [0.9408, 0.1332, 0.9346, 0.5936]])\n",
            "tensor([[0.8823, 0.9150, 0.3829, 0.9593],\n",
            "        [0.3904, 0.6009, 0.2566, 0.7936],\n",
            "        [0.9408, 0.1332, 0.9346, 0.5936]])\n",
            "tensor([[True, True, True, True],\n",
            "        [True, True, True, True],\n",
            "        [True, True, True, True]])\n"
          ]
        }
      ]
    },
    {
      "cell_type": "markdown",
      "source": [
        "**Running tensors and PyTorch objects on the GPUs(and making faster computations)**\n",
        "\n"
      ],
      "metadata": {
        "id": "HMULvuml4X3-"
      }
    },
    {
      "cell_type": "code",
      "source": [
        "#Running tensors and PyTorch objects on the GPUs\n",
        "#Getting a GPU\n",
        "#1.Easiest -use google colab\n",
        "#2.Set up the GPUs by installing\n",
        "#3.Use cloud computing\n",
        "!nvidia-smi"
      ],
      "metadata": {
        "id": "Gf_qTH0K3OOo",
        "colab": {
          "base_uri": "https://localhost:8080/"
        },
        "outputId": "792d423b-292b-4584-fec2-5e82a68bc9d7"
      },
      "execution_count": null,
      "outputs": [
        {
          "output_type": "stream",
          "name": "stdout",
          "text": [
            "Mon Feb 12 06:25:28 2024       \n",
            "+---------------------------------------------------------------------------------------+\n",
            "| NVIDIA-SMI 535.104.05             Driver Version: 535.104.05   CUDA Version: 12.2     |\n",
            "|-----------------------------------------+----------------------+----------------------+\n",
            "| GPU  Name                 Persistence-M | Bus-Id        Disp.A | Volatile Uncorr. ECC |\n",
            "| Fan  Temp   Perf          Pwr:Usage/Cap |         Memory-Usage | GPU-Util  Compute M. |\n",
            "|                                         |                      |               MIG M. |\n",
            "|=========================================+======================+======================|\n",
            "|   0  Tesla T4                       Off | 00000000:00:04.0 Off |                    0 |\n",
            "| N/A   54C    P0              28W /  70W |    105MiB / 15360MiB |      0%      Default |\n",
            "|                                         |                      |                  N/A |\n",
            "+-----------------------------------------+----------------------+----------------------+\n",
            "                                                                                         \n",
            "+---------------------------------------------------------------------------------------+\n",
            "| Processes:                                                                            |\n",
            "|  GPU   GI   CI        PID   Type   Process name                            GPU Memory |\n",
            "|        ID   ID                                                             Usage      |\n",
            "|=======================================================================================|\n",
            "+---------------------------------------------------------------------------------------+\n"
          ]
        }
      ]
    },
    {
      "cell_type": "code",
      "source": [
        "#Check for GPU access with PyTorch\n",
        "import torch\n",
        "torch.cuda.is_available()"
      ],
      "metadata": {
        "colab": {
          "base_uri": "https://localhost:8080/"
        },
        "id": "74iA7wy274qS",
        "outputId": "c598bfdc-4003-4bcc-8374-7a09eb8e7061"
      },
      "execution_count": null,
      "outputs": [
        {
          "output_type": "execute_result",
          "data": {
            "text/plain": [
              "True"
            ]
          },
          "metadata": {},
          "execution_count": 74
        }
      ]
    },
    {
      "cell_type": "code",
      "source": [
        "#Set Up device agonstic code\n",
        "device = \"cuda\" if torch.cuda.is_available() else \"cpu\"\n",
        "device"
      ],
      "metadata": {
        "colab": {
          "base_uri": "https://localhost:8080/",
          "height": 35
        },
        "id": "b5Q9jQop8SqT",
        "outputId": "ad9b47b6-0681-4334-9a39-c0b241154ffb"
      },
      "execution_count": null,
      "outputs": [
        {
          "output_type": "execute_result",
          "data": {
            "text/plain": [
              "'cuda'"
            ],
            "application/vnd.google.colaboratory.intrinsic+json": {
              "type": "string"
            }
          },
          "metadata": {},
          "execution_count": 75
        }
      ]
    },
    {
      "cell_type": "code",
      "source": [
        "#count number of devices\n",
        "torch.cuda.device_count()"
      ],
      "metadata": {
        "colab": {
          "base_uri": "https://localhost:8080/"
        },
        "id": "4OFqAVrU8hq5",
        "outputId": "78bc6910-e8ae-4b36-ae68-4e4b6ea8c354"
      },
      "execution_count": null,
      "outputs": [
        {
          "output_type": "execute_result",
          "data": {
            "text/plain": [
              "1"
            ]
          },
          "metadata": {},
          "execution_count": 76
        }
      ]
    },
    {
      "cell_type": "markdown",
      "source": [
        "**Putting tensors(and models) on the GPU**\n",
        "\n",
        "The reason we want our tensors/models on the GPU is because using a GPU results in faster computations\n"
      ],
      "metadata": {
        "id": "rs_WfKsp9LIJ"
      }
    },
    {
      "cell_type": "code",
      "source": [
        "#create a tensor(default on the cpu)\n",
        "tensor = torch.tensor([1, 2, 3])\n",
        "print(tensor, tensor.device)"
      ],
      "metadata": {
        "colab": {
          "base_uri": "https://localhost:8080/"
        },
        "id": "GC9aP29U9aMl",
        "outputId": "9737dc0c-112a-4c78-cb69-0c7c2f1baa5c"
      },
      "execution_count": null,
      "outputs": [
        {
          "output_type": "stream",
          "name": "stdout",
          "text": [
            "tensor([1, 2, 3]) cpu\n"
          ]
        }
      ]
    },
    {
      "cell_type": "code",
      "source": [
        "#creating a tensor on GPU\n",
        "#Move tensor to GPU(if available)\n",
        "tensor_on_gpu = tensor.to(device)\n",
        "tensor_on_gpu"
      ],
      "metadata": {
        "colab": {
          "base_uri": "https://localhost:8080/"
        },
        "id": "veSrO9ha90MS",
        "outputId": "0ef09e14-ea8a-4bb6-dc00-9e0045983543"
      },
      "execution_count": null,
      "outputs": [
        {
          "output_type": "execute_result",
          "data": {
            "text/plain": [
              "tensor([1, 2, 3], device='cuda:0')"
            ]
          },
          "metadata": {},
          "execution_count": 78
        }
      ]
    },
    {
      "cell_type": "code",
      "source": [
        "#To fix the GPU tensor with Numpy issue, we can fisrt set into CPU\n",
        "tensor_back_on_cpu = tensor_on_gpu.cpu().numpy()\n",
        "tensor_back_on_cpu"
      ],
      "metadata": {
        "colab": {
          "base_uri": "https://localhost:8080/"
        },
        "id": "wgaPxDoz-nPe",
        "outputId": "5b2903c8-72cb-4ed5-9d22-6010680b0854"
      },
      "execution_count": null,
      "outputs": [
        {
          "output_type": "execute_result",
          "data": {
            "text/plain": [
              "array([1, 2, 3])"
            ]
          },
          "metadata": {},
          "execution_count": 80
        }
      ]
    },
    {
      "cell_type": "markdown",
      "source": [],
      "metadata": {
        "id": "RxMv_nuXIJRR"
      }
    }
  ],
  "metadata": {
    "colab": {
      "provenance": [],
      "gpuType": "T4",
      "authorship_tag": "ABX9TyMqfmnoMwtNfbOlUmg6g5Jv",
      "include_colab_link": true
    },
    "kernelspec": {
      "display_name": "Python 3",
      "name": "python3"
    },
    "language_info": {
      "name": "python"
    },
    "accelerator": "GPU"
  },
  "nbformat": 4,
  "nbformat_minor": 0
}