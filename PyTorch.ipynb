{
  "cells": [
    {
      "cell_type": "markdown",
      "metadata": {
        "id": "view-in-github",
        "colab_type": "text"
      },
      "source": [
        "<a href=\"https://colab.research.google.com/github/Pradeep24032004/PyTorch-/blob/main/PyTorch.ipynb\" target=\"_parent\"><img src=\"https://colab.research.google.com/assets/colab-badge.svg\" alt=\"Open In Colab\"/></a>"
      ]
    },
    {
      "cell_type": "code",
      "execution_count": 1,
      "metadata": {
        "colab": {
          "base_uri": "https://localhost:8080/"
        },
        "id": "snESTlXW9kLs",
        "outputId": "aeb8ffbd-eb5c-4919-b07b-8e3866c67ff4"
      },
      "outputs": [
        {
          "output_type": "stream",
          "name": "stdout",
          "text": [
            "/bin/bash: line 1: nvdia-smi: command not found\n"
          ]
        }
      ],
      "source": [
        "!nvdia-smi\n"
      ]
    },
    {
      "cell_type": "code",
      "execution_count": 2,
      "metadata": {
        "colab": {
          "base_uri": "https://localhost:8080/"
        },
        "id": "zu2SxTRwDLuG",
        "outputId": "be17e6cd-5247-4558-df8f-e5feb8435ff6"
      },
      "outputs": [
        {
          "output_type": "stream",
          "name": "stdout",
          "text": [
            "2.1.0+cu121\n"
          ]
        }
      ],
      "source": [
        "import torch\n",
        "import pandas as pd\n",
        "import numpy as np\n",
        "import matplotlib.pyplot as plt\n",
        "print(torch.__version__)"
      ]
    },
    {
      "cell_type": "code",
      "execution_count": 3,
      "metadata": {
        "colab": {
          "base_uri": "https://localhost:8080/"
        },
        "id": "n_lY7t25EUlY",
        "outputId": "175b4b23-6b2a-46cc-8958-ab51216e52e6"
      },
      "outputs": [
        {
          "output_type": "execute_result",
          "data": {
            "text/plain": [
              "tensor(7)"
            ]
          },
          "metadata": {},
          "execution_count": 3
        }
      ],
      "source": [
        "#Introduction to tensors\n",
        "#creating tensors\n",
        "#scalars\n",
        "scalar = torch.tensor(7)\n",
        "scalar\n"
      ]
    },
    {
      "cell_type": "code",
      "source": [
        "scalar.ndim"
      ],
      "metadata": {
        "colab": {
          "base_uri": "https://localhost:8080/"
        },
        "id": "4x39ogseVgLf",
        "outputId": "0184f604-28ba-4fc8-e920-e650e202fdf5"
      },
      "execution_count": 4,
      "outputs": [
        {
          "output_type": "execute_result",
          "data": {
            "text/plain": [
              "0"
            ]
          },
          "metadata": {},
          "execution_count": 4
        }
      ]
    },
    {
      "cell_type": "code",
      "source": [
        "#get tensor as python int\n",
        "scalar.item()"
      ],
      "metadata": {
        "colab": {
          "base_uri": "https://localhost:8080/"
        },
        "id": "3UpMd2LzVike",
        "outputId": "2cda1952-7e07-43cd-fcfb-6f70bb390b06"
      },
      "execution_count": 5,
      "outputs": [
        {
          "output_type": "execute_result",
          "data": {
            "text/plain": [
              "7"
            ]
          },
          "metadata": {},
          "execution_count": 5
        }
      ]
    },
    {
      "cell_type": "code",
      "source": [
        "#vector\n",
        "vector = torch.tensor([7, 7])\n",
        "vector\n"
      ],
      "metadata": {
        "colab": {
          "base_uri": "https://localhost:8080/"
        },
        "id": "noRWeNoVV9yy",
        "outputId": "6ac2899f-00dd-4fc0-9d53-c41250c2627a"
      },
      "execution_count": 6,
      "outputs": [
        {
          "output_type": "execute_result",
          "data": {
            "text/plain": [
              "tensor([7, 7])"
            ]
          },
          "metadata": {},
          "execution_count": 6
        }
      ]
    },
    {
      "cell_type": "code",
      "source": [
        "vector.ndim"
      ],
      "metadata": {
        "colab": {
          "base_uri": "https://localhost:8080/"
        },
        "id": "KagaYz53WHi4",
        "outputId": "1e692b50-16d0-4ba2-f8e1-d7f5fd17f206"
      },
      "execution_count": 7,
      "outputs": [
        {
          "output_type": "execute_result",
          "data": {
            "text/plain": [
              "1"
            ]
          },
          "metadata": {},
          "execution_count": 7
        }
      ]
    },
    {
      "cell_type": "code",
      "source": [
        "vector.shape"
      ],
      "metadata": {
        "colab": {
          "base_uri": "https://localhost:8080/"
        },
        "id": "zho8FpjkWKpy",
        "outputId": "06f31b87-ae1d-449c-d4b9-c5c3de5cb102"
      },
      "execution_count": 8,
      "outputs": [
        {
          "output_type": "execute_result",
          "data": {
            "text/plain": [
              "torch.Size([2])"
            ]
          },
          "metadata": {},
          "execution_count": 8
        }
      ]
    },
    {
      "cell_type": "code",
      "source": [
        "#Matrix\n",
        "MATRIX = torch.tensor([[1, 2], [3, 4]])\n",
        "MATRIX\n"
      ],
      "metadata": {
        "colab": {
          "base_uri": "https://localhost:8080/"
        },
        "id": "oeP6pOn9WOkA",
        "outputId": "8fdac730-f28c-41ef-be7c-95ef820225f1"
      },
      "execution_count": 9,
      "outputs": [
        {
          "output_type": "execute_result",
          "data": {
            "text/plain": [
              "tensor([[1, 2],\n",
              "        [3, 4]])"
            ]
          },
          "metadata": {},
          "execution_count": 9
        }
      ]
    },
    {
      "cell_type": "code",
      "source": [
        "MATRIX.ndim"
      ],
      "metadata": {
        "colab": {
          "base_uri": "https://localhost:8080/"
        },
        "id": "VhPe24njWagz",
        "outputId": "ec517ed6-bb81-45f3-dc69-9873214d316a"
      },
      "execution_count": 10,
      "outputs": [
        {
          "output_type": "execute_result",
          "data": {
            "text/plain": [
              "2"
            ]
          },
          "metadata": {},
          "execution_count": 10
        }
      ]
    },
    {
      "cell_type": "code",
      "source": [
        "MATRIX[1]"
      ],
      "metadata": {
        "colab": {
          "base_uri": "https://localhost:8080/"
        },
        "id": "dx025814WgDr",
        "outputId": "99e7f259-c71c-46ec-9d2f-a9487ac16a47"
      },
      "execution_count": 11,
      "outputs": [
        {
          "output_type": "execute_result",
          "data": {
            "text/plain": [
              "tensor([3, 4])"
            ]
          },
          "metadata": {},
          "execution_count": 11
        }
      ]
    },
    {
      "cell_type": "code",
      "source": [
        "MATRIX.shape"
      ],
      "metadata": {
        "colab": {
          "base_uri": "https://localhost:8080/"
        },
        "id": "Q6EP4kaGWjMH",
        "outputId": "f0cd7927-e93f-424c-ebda-fb10aafda647"
      },
      "execution_count": 12,
      "outputs": [
        {
          "output_type": "execute_result",
          "data": {
            "text/plain": [
              "torch.Size([2, 2])"
            ]
          },
          "metadata": {},
          "execution_count": 12
        }
      ]
    },
    {
      "cell_type": "markdown",
      "source": [
        "Generally in tensors scalars are represented by lower case letters like 'a', vectors are represented by lower case letters like 'y', matrix is represented by upper case letters like 'Q' and tenosrs are represented by upper case letters like 'X'"
      ],
      "metadata": {
        "id": "dg9dG2OzX2sq"
      }
    },
    {
      "cell_type": "code",
      "source": [
        "#Random Tensors\n",
        "#random tensors are important because the way many neural networks learn is that they start with tensors full random numbers and then adjust the random numbers to better represent the data\n",
        "random_tensor = torch.rand(3, 4)\n",
        "random_tensor"
      ],
      "metadata": {
        "colab": {
          "base_uri": "https://localhost:8080/"
        },
        "id": "FmX5uLXPYRKK",
        "outputId": "1587770e-0b07-4ea1-fcfb-015abd214ae2"
      },
      "execution_count": 13,
      "outputs": [
        {
          "output_type": "execute_result",
          "data": {
            "text/plain": [
              "tensor([[0.5284, 0.5295, 0.4413, 0.4427],\n",
              "        [0.8984, 0.1163, 0.9702, 0.1222],\n",
              "        [0.0901, 0.1837, 0.4054, 0.6441]])"
            ]
          },
          "metadata": {},
          "execution_count": 13
        }
      ]
    },
    {
      "cell_type": "code",
      "source": [
        "#create a random tensor with similar shape to an image tensor\n",
        "random_image_tensor = torch.rand(size=(224, 224, 3)) # height, width, color channels(R, G, B)\n",
        "random_image_tensor"
      ],
      "metadata": {
        "colab": {
          "base_uri": "https://localhost:8080/"
        },
        "id": "Vktzx-fEZ_B_",
        "outputId": "a09134dd-da80-4c04-b38f-d42dcd5264a6"
      },
      "execution_count": 14,
      "outputs": [
        {
          "output_type": "execute_result",
          "data": {
            "text/plain": [
              "tensor([[[0.8321, 0.2707, 0.7564],\n",
              "         [0.5091, 0.8193, 0.0775],\n",
              "         [0.6066, 0.0578, 0.6359],\n",
              "         ...,\n",
              "         [0.9358, 0.6880, 0.2105],\n",
              "         [0.6676, 0.0463, 0.1944],\n",
              "         [0.5772, 0.5698, 0.5569]],\n",
              "\n",
              "        [[0.3210, 0.3262, 0.4063],\n",
              "         [0.0257, 0.0896, 0.4598],\n",
              "         [0.2317, 0.8625, 0.6952],\n",
              "         ...,\n",
              "         [0.1758, 0.4723, 0.8539],\n",
              "         [0.9471, 0.9903, 0.5223],\n",
              "         [0.8325, 0.3302, 0.7556]],\n",
              "\n",
              "        [[0.6149, 0.3671, 0.1179],\n",
              "         [0.6989, 0.9174, 0.0380],\n",
              "         [0.7227, 0.1194, 0.5524],\n",
              "         ...,\n",
              "         [0.9107, 0.1950, 0.1817],\n",
              "         [0.9992, 0.9875, 0.0811],\n",
              "         [0.4060, 0.8830, 0.1395]],\n",
              "\n",
              "        ...,\n",
              "\n",
              "        [[0.3009, 0.6165, 0.0494],\n",
              "         [0.3526, 0.4172, 0.8435],\n",
              "         [0.1900, 0.3937, 0.2050],\n",
              "         ...,\n",
              "         [0.1024, 0.0063, 0.0518],\n",
              "         [0.3575, 0.2256, 0.0215],\n",
              "         [0.8754, 0.5342, 0.1615]],\n",
              "\n",
              "        [[0.6177, 0.1543, 0.9134],\n",
              "         [0.7400, 0.8407, 0.7562],\n",
              "         [0.6246, 0.0431, 0.1466],\n",
              "         ...,\n",
              "         [0.0329, 0.0766, 0.7595],\n",
              "         [0.6312, 0.1987, 0.9386],\n",
              "         [0.4839, 0.9085, 0.9367]],\n",
              "\n",
              "        [[0.3763, 0.0827, 0.3837],\n",
              "         [0.9829, 0.5910, 0.4045],\n",
              "         [0.4818, 0.5781, 0.6903],\n",
              "         ...,\n",
              "         [0.8111, 0.2996, 0.9596],\n",
              "         [0.1022, 0.1938, 0.8277],\n",
              "         [0.4272, 0.8845, 0.4187]]])"
            ]
          },
          "metadata": {},
          "execution_count": 14
        }
      ]
    },
    {
      "cell_type": "code",
      "source": [
        "random_image_tensor.ndim"
      ],
      "metadata": {
        "colab": {
          "base_uri": "https://localhost:8080/"
        },
        "id": "x_QjTIekaejR",
        "outputId": "0a9900d3-9cf7-413f-e0af-89064111ac38"
      },
      "execution_count": 15,
      "outputs": [
        {
          "output_type": "execute_result",
          "data": {
            "text/plain": [
              "3"
            ]
          },
          "metadata": {},
          "execution_count": 15
        }
      ]
    },
    {
      "cell_type": "markdown",
      "source": [
        "***Zeros and Ones***"
      ],
      "metadata": {
        "id": "wCufZA3ybQCl"
      }
    },
    {
      "cell_type": "code",
      "source": [
        "zeros = torch.zeros(size=(3, 4))\n",
        "zeros"
      ],
      "metadata": {
        "colab": {
          "base_uri": "https://localhost:8080/"
        },
        "id": "nmVyM4NQbfSn",
        "outputId": "0b503aee-1ceb-43ec-ec80-3ef10c0f5814"
      },
      "execution_count": 16,
      "outputs": [
        {
          "output_type": "execute_result",
          "data": {
            "text/plain": [
              "tensor([[0., 0., 0., 0.],\n",
              "        [0., 0., 0., 0.],\n",
              "        [0., 0., 0., 0.]])"
            ]
          },
          "metadata": {},
          "execution_count": 16
        }
      ]
    },
    {
      "cell_type": "code",
      "source": [
        "#creat6e tensor of ones\n",
        "ones = torch.ones(size=(3, 4))\n",
        "ones"
      ],
      "metadata": {
        "colab": {
          "base_uri": "https://localhost:8080/"
        },
        "id": "lve0jK-2buYm",
        "outputId": "9322265b-a87e-4778-b914-6a4f0aeeccc2"
      },
      "execution_count": 17,
      "outputs": [
        {
          "output_type": "execute_result",
          "data": {
            "text/plain": [
              "tensor([[1., 1., 1., 1.],\n",
              "        [1., 1., 1., 1.],\n",
              "        [1., 1., 1., 1.]])"
            ]
          },
          "metadata": {},
          "execution_count": 17
        }
      ]
    },
    {
      "cell_type": "code",
      "source": [
        "#data type\n",
        "ones.dtype"
      ],
      "metadata": {
        "colab": {
          "base_uri": "https://localhost:8080/"
        },
        "id": "UxfQWNj-cCb6",
        "outputId": "a983a07b-a111-43c4-d31f-6321749ee4b4"
      },
      "execution_count": 18,
      "outputs": [
        {
          "output_type": "execute_result",
          "data": {
            "text/plain": [
              "torch.float32"
            ]
          },
          "metadata": {},
          "execution_count": 18
        }
      ]
    },
    {
      "cell_type": "markdown",
      "source": [
        "Creating a range of tensors and tensors-like\n"
      ],
      "metadata": {
        "id": "bZzfzJ1ScReH"
      }
    },
    {
      "cell_type": "code",
      "source": [
        "#use torch.arange()\n",
        "torch.arange(0, 10)"
      ],
      "metadata": {
        "colab": {
          "base_uri": "https://localhost:8080/"
        },
        "id": "Z8spzaSscW1L",
        "outputId": "5693ed4d-d084-4131-ac32-ffbc4b522436"
      },
      "execution_count": 19,
      "outputs": [
        {
          "output_type": "execute_result",
          "data": {
            "text/plain": [
              "tensor([0, 1, 2, 3, 4, 5, 6, 7, 8, 9])"
            ]
          },
          "metadata": {},
          "execution_count": 19
        }
      ]
    },
    {
      "cell_type": "code",
      "source": [
        "one_to_ten = torch.arange(start=1, end = 11, step=1)\n",
        "one_to_ten"
      ],
      "metadata": {
        "colab": {
          "base_uri": "https://localhost:8080/"
        },
        "id": "HSMU2WYDc6UO",
        "outputId": "2941405b-1bbf-469f-86a0-a99284ec8bd0"
      },
      "execution_count": 20,
      "outputs": [
        {
          "output_type": "execute_result",
          "data": {
            "text/plain": [
              "tensor([ 1,  2,  3,  4,  5,  6,  7,  8,  9, 10])"
            ]
          },
          "metadata": {},
          "execution_count": 20
        }
      ]
    },
    {
      "cell_type": "code",
      "source": [
        "#creating tenors like\n",
        "ten_zeros = torch.zeros_like(input = one_to_ten)\n",
        "ten_zeros"
      ],
      "metadata": {
        "colab": {
          "base_uri": "https://localhost:8080/"
        },
        "id": "untmpknwd5WI",
        "outputId": "0793544e-d9af-405c-d687-7392c5083fee"
      },
      "execution_count": 21,
      "outputs": [
        {
          "output_type": "execute_result",
          "data": {
            "text/plain": [
              "tensor([0, 0, 0, 0, 0, 0, 0, 0, 0, 0])"
            ]
          },
          "metadata": {},
          "execution_count": 21
        }
      ]
    },
    {
      "cell_type": "code",
      "source": [
        "#Tensor datatypes\n",
        "#Float 32 tensor\n",
        "float_32_tensor = torch.tensor([3.0, 4.0, 7.0], dtype=None,#datatype whether float or int\n",
        "                               device=None,  #running on which device cpu or gpu\n",
        "                               requires_grad=False ) #to keep track of gradient descent or not\n",
        "float_32_tensor"
      ],
      "metadata": {
        "colab": {
          "base_uri": "https://localhost:8080/"
        },
        "id": "lNStp1i4e9Hq",
        "outputId": "0d104ffb-f496-4433-c016-b62bffe2ae2a"
      },
      "execution_count": 22,
      "outputs": [
        {
          "output_type": "execute_result",
          "data": {
            "text/plain": [
              "tensor([3., 4., 7.])"
            ]
          },
          "metadata": {},
          "execution_count": 22
        }
      ]
    },
    {
      "cell_type": "code",
      "source": [
        "float_32_tensor.dtype"
      ],
      "metadata": {
        "colab": {
          "base_uri": "https://localhost:8080/"
        },
        "id": "41eq1qTOgv70",
        "outputId": "7f0ffea9-51a5-423a-b8d9-4f50b7e3d92f"
      },
      "execution_count": 23,
      "outputs": [
        {
          "output_type": "execute_result",
          "data": {
            "text/plain": [
              "torch.float32"
            ]
          },
          "metadata": {},
          "execution_count": 23
        }
      ]
    },
    {
      "cell_type": "code",
      "source": [
        "float_16_tensor = float_32_tensor.type(torch.float16)\n",
        "float_16_tensor\n"
      ],
      "metadata": {
        "colab": {
          "base_uri": "https://localhost:8080/"
        },
        "id": "IFLRnYygg0aJ",
        "outputId": "f12c0bdd-0f67-40fb-9f6c-5f038ac9015d"
      },
      "execution_count": 24,
      "outputs": [
        {
          "output_type": "execute_result",
          "data": {
            "text/plain": [
              "tensor([3., 4., 7.], dtype=torch.float16)"
            ]
          },
          "metadata": {},
          "execution_count": 24
        }
      ]
    },
    {
      "cell_type": "code",
      "source": [
        "float_16_tensor*float_32_tensor"
      ],
      "metadata": {
        "colab": {
          "base_uri": "https://localhost:8080/"
        },
        "id": "ssPTfeb-U6cR",
        "outputId": "d8800198-9e20-4228-f9a3-586f6a43ba5b"
      },
      "execution_count": 25,
      "outputs": [
        {
          "output_type": "execute_result",
          "data": {
            "text/plain": [
              "tensor([ 9., 16., 49.])"
            ]
          },
          "metadata": {},
          "execution_count": 25
        }
      ]
    },
    {
      "cell_type": "code",
      "source": [
        "int_32_tensor = torch.tensor([3, 6, 9], dtype = torch.int32)\n",
        "int_32_tensor"
      ],
      "metadata": {
        "colab": {
          "base_uri": "https://localhost:8080/"
        },
        "id": "peKNaP5fVImX",
        "outputId": "16b5472b-025b-4576-ecb6-4f96e3b465e8"
      },
      "execution_count": 26,
      "outputs": [
        {
          "output_type": "execute_result",
          "data": {
            "text/plain": [
              "tensor([3, 6, 9], dtype=torch.int32)"
            ]
          },
          "metadata": {},
          "execution_count": 26
        }
      ]
    },
    {
      "cell_type": "markdown",
      "source": [
        "**Getting information from tensors(tensor attributes)**\n",
        "1. tenosr.dtype -gives info about data rype of tensor\n",
        "2. tensor.shape - gives the shape of the tensor\n",
        "3. tensor.device - gives info about on which device the code is running(cpu or gpu etc)"
      ],
      "metadata": {
        "id": "hDVLkre2V7jZ"
      }
    },
    {
      "cell_type": "code",
      "source": [
        "some_tensor = torch.rand(3,4)\n",
        "print(some_tensor)\n",
        "print(f\"Dtatype of tensor: {some_tensor.dtype}\")\n",
        "print(f\"Shape of tensor: {some_tensor.shape}\")\n",
        "print(f\"Device tensor is on: {some_tensor.device}\")"
      ],
      "metadata": {
        "colab": {
          "base_uri": "https://localhost:8080/"
        },
        "id": "-HLhYk9HWThN",
        "outputId": "977a0b9f-6e7c-4412-8575-704f9b987908"
      },
      "execution_count": 27,
      "outputs": [
        {
          "output_type": "stream",
          "name": "stdout",
          "text": [
            "tensor([[0.3358, 0.8784, 0.7571, 0.3957],\n",
            "        [0.4129, 0.2673, 0.0233, 0.9665],\n",
            "        [0.1378, 0.1416, 0.6652, 0.7239]])\n",
            "Dtatype of tensor: torch.float32\n",
            "Shape of tensor: torch.Size([3, 4])\n",
            "Device tensor is on: cpu\n"
          ]
        }
      ]
    },
    {
      "cell_type": "code",
      "source": [
        "#Manipulating tensors(Tensor operations)\n",
        "#create a tensor and 10 to it\n",
        "tensor = torch.tensor([1, 2, 3])\n",
        "tensor + 10 #can also write as torch.add(torch, 10)"
      ],
      "metadata": {
        "colab": {
          "base_uri": "https://localhost:8080/"
        },
        "id": "dYOIMFLzXCx2",
        "outputId": "9fd80a82-d5bc-4683-9c4f-d0887d6f28b9"
      },
      "execution_count": 28,
      "outputs": [
        {
          "output_type": "execute_result",
          "data": {
            "text/plain": [
              "tensor([11, 12, 13])"
            ]
          },
          "metadata": {},
          "execution_count": 28
        }
      ]
    },
    {
      "cell_type": "code",
      "source": [
        "#multiply tensor by 10\n",
        "tensor * 10\n",
        "print(tensor)\n",
        "#reasigning tensor\n",
        "tensor = tensor * 10 #can also write as torch.mul(tensor, 10)\n",
        "print(tensor)"
      ],
      "metadata": {
        "colab": {
          "base_uri": "https://localhost:8080/"
        },
        "id": "ygUWhSy3YFTl",
        "outputId": "46608ff0-2c03-4822-b82c-1a1d8e9baa86"
      },
      "execution_count": 29,
      "outputs": [
        {
          "output_type": "stream",
          "name": "stdout",
          "text": [
            "tensor([1, 2, 3])\n",
            "tensor([10, 20, 30])\n"
          ]
        }
      ]
    },
    {
      "cell_type": "code",
      "source": [
        "#substraction\n",
        "tensor = tensor - 10\n",
        "tensor"
      ],
      "metadata": {
        "colab": {
          "base_uri": "https://localhost:8080/"
        },
        "id": "1stlrtUcYpF7",
        "outputId": "ba35be1a-0feb-42ea-b3cf-7f9164d1671a"
      },
      "execution_count": 30,
      "outputs": [
        {
          "output_type": "execute_result",
          "data": {
            "text/plain": [
              "tensor([ 0, 10, 20])"
            ]
          },
          "metadata": {},
          "execution_count": 30
        }
      ]
    },
    {
      "cell_type": "markdown",
      "source": [
        "**Matrix Multiplication**\n",
        "\n",
        "There are two types of multiplications in neural networks and deep learning\n",
        "\n",
        "1.Element wise multiplication\n",
        "\n",
        "2.Matrix Multiplication(dot product)"
      ],
      "metadata": {
        "id": "Ym1nDv8sZ-P4"
      }
    },
    {
      "cell_type": "code",
      "source": [
        "tensor = torch.tensor([1, 2, 3])\n",
        "#Element wise multiplication\n",
        "print(tensor, \"*\", tensor)\n",
        "print(f\"Equals: {tensor* tensor}\")"
      ],
      "metadata": {
        "colab": {
          "base_uri": "https://localhost:8080/"
        },
        "id": "JePbh1pYaUc6",
        "outputId": "be13696d-525e-4773-d1bf-6b34d20db306"
      },
      "execution_count": 31,
      "outputs": [
        {
          "output_type": "stream",
          "name": "stdout",
          "text": [
            "tensor([1, 2, 3]) * tensor([1, 2, 3])\n",
            "Equals: tensor([1, 4, 9])\n"
          ]
        }
      ]
    },
    {
      "cell_type": "code",
      "source": [
        "#matrix multiplication\n",
        "%%time\n",
        "torch.matmul(tensor, tensor)"
      ],
      "metadata": {
        "colab": {
          "base_uri": "https://localhost:8080/"
        },
        "id": "UF5-wUgHav0b",
        "outputId": "194280ff-1779-4eac-9bd9-a62e4825defb"
      },
      "execution_count": 34,
      "outputs": [
        {
          "output_type": "stream",
          "name": "stdout",
          "text": [
            "CPU times: user 876 µs, sys: 6 µs, total: 882 µs\n",
            "Wall time: 614 µs\n"
          ]
        },
        {
          "output_type": "execute_result",
          "data": {
            "text/plain": [
              "tensor(14)"
            ]
          },
          "metadata": {},
          "execution_count": 34
        }
      ]
    },
    {
      "cell_type": "code",
      "source": [
        "tensor_A = torch.tensor([[1, 2],\n",
        "                         [3, 4],\n",
        "                         [5, 6]])\n",
        "tensor_B = torch.tensor([[7, 10],\n",
        "                         [8, 11],\n",
        "                         [9, 12]])\n",
        "output = torch.matmul(tensor_A, tensor_B.T)\n",
        "print(output)\n",
        "print(f\"shape is \",output.shape)"
      ],
      "metadata": {
        "id": "UIso9IaIb0mc",
        "colab": {
          "base_uri": "https://localhost:8080/"
        },
        "outputId": "5221a377-e04e-4a7f-fefe-2605b2d017d6"
      },
      "execution_count": 40,
      "outputs": [
        {
          "output_type": "stream",
          "name": "stdout",
          "text": [
            "tensor([[ 27,  30,  33],\n",
            "        [ 61,  68,  75],\n",
            "        [ 95, 106, 117]])\n",
            "shape is  torch.Size([3, 3])\n"
          ]
        }
      ]
    },
    {
      "cell_type": "code",
      "source": [
        "#To fix our tensor shape issues we can manipulate tensors using transpose\n",
        "tensor_B.T, tensor_B"
      ],
      "metadata": {
        "colab": {
          "base_uri": "https://localhost:8080/"
        },
        "id": "qNVbQcFhBeqk",
        "outputId": "80e31cbc-e523-4e75-ca24-f5f2ba71f734"
      },
      "execution_count": 41,
      "outputs": [
        {
          "output_type": "execute_result",
          "data": {
            "text/plain": [
              "(tensor([[ 7,  8,  9],\n",
              "         [10, 11, 12]]),\n",
              " tensor([[ 7, 10],\n",
              "         [ 8, 11],\n",
              "         [ 9, 12]]))"
            ]
          },
          "metadata": {},
          "execution_count": 41
        }
      ]
    },
    {
      "cell_type": "markdown",
      "source": [
        "**Finding the min, max, mean, sum, etc(tensor aggregation)**"
      ],
      "metadata": {
        "id": "g6csuRjMDsBP"
      }
    },
    {
      "cell_type": "code",
      "source": [
        "x = torch.arange(0, 100, 10)\n",
        "x, x.dtype"
      ],
      "metadata": {
        "colab": {
          "base_uri": "https://localhost:8080/"
        },
        "id": "hsOloYGzDoUa",
        "outputId": "b79dc77a-700b-40f8-d5f4-8e0fd2ec3a23"
      },
      "execution_count": 45,
      "outputs": [
        {
          "output_type": "execute_result",
          "data": {
            "text/plain": [
              "(tensor([ 0, 10, 20, 30, 40, 50, 60, 70, 80, 90]), torch.int64)"
            ]
          },
          "metadata": {},
          "execution_count": 45
        }
      ]
    },
    {
      "cell_type": "code",
      "source": [
        "#finding the min\n",
        "torch.min(x), x.min()"
      ],
      "metadata": {
        "colab": {
          "base_uri": "https://localhost:8080/"
        },
        "id": "lN0UQtZFD9UT",
        "outputId": "bfe083ec-e6b9-4db6-a169-ec484862f9ee"
      },
      "execution_count": 43,
      "outputs": [
        {
          "output_type": "execute_result",
          "data": {
            "text/plain": [
              "(tensor(0), tensor(0))"
            ]
          },
          "metadata": {},
          "execution_count": 43
        }
      ]
    },
    {
      "cell_type": "code",
      "source": [
        "#finding the max\n",
        "torch.max(x), x.max()"
      ],
      "metadata": {
        "colab": {
          "base_uri": "https://localhost:8080/"
        },
        "id": "6R1vrPonEFH1",
        "outputId": "22e92320-071f-4585-8f0a-e0ed5ba26753"
      },
      "execution_count": 44,
      "outputs": [
        {
          "output_type": "execute_result",
          "data": {
            "text/plain": [
              "(tensor(90), tensor(90))"
            ]
          },
          "metadata": {},
          "execution_count": 44
        }
      ]
    },
    {
      "cell_type": "code",
      "source": [
        "#finding the mean\n",
        "torch.mean(x.type(torch.float32)), x.type(torch.float32).mean()"
      ],
      "metadata": {
        "colab": {
          "base_uri": "https://localhost:8080/"
        },
        "id": "3tpn0j2OEKiF",
        "outputId": "feab2082-9134-4ab0-8307-7ff0433633ef"
      },
      "execution_count": 47,
      "outputs": [
        {
          "output_type": "execute_result",
          "data": {
            "text/plain": [
              "(tensor(45.), tensor(45.))"
            ]
          },
          "metadata": {},
          "execution_count": 47
        }
      ]
    },
    {
      "cell_type": "code",
      "source": [
        "#Find the sum\n",
        "torch.sum(x), x.sum()"
      ],
      "metadata": {
        "colab": {
          "base_uri": "https://localhost:8080/"
        },
        "id": "SZJHGApkE6hs",
        "outputId": "668cc92c-891b-44ee-c85d-2b870e1cfb4e"
      },
      "execution_count": 48,
      "outputs": [
        {
          "output_type": "execute_result",
          "data": {
            "text/plain": [
              "(tensor(450), tensor(450))"
            ]
          },
          "metadata": {},
          "execution_count": 48
        }
      ]
    },
    {
      "cell_type": "markdown",
      "source": [
        "Finding the positional min and max"
      ],
      "metadata": {
        "id": "hesL9WmXFaQH"
      }
    },
    {
      "cell_type": "code",
      "source": [
        "#find the position in tensor that has min value => the index at which min value occurs\n",
        "x.argmin()"
      ],
      "metadata": {
        "colab": {
          "base_uri": "https://localhost:8080/"
        },
        "id": "WshrI9C6FdcB",
        "outputId": "688cfc19-f002-435e-ad01-9f145ab3b3e8"
      },
      "execution_count": 49,
      "outputs": [
        {
          "output_type": "execute_result",
          "data": {
            "text/plain": [
              "tensor(0)"
            ]
          },
          "metadata": {},
          "execution_count": 49
        }
      ]
    },
    {
      "cell_type": "code",
      "source": [
        "#find the position of tensor that has max value => the index at which max value is present\n",
        "x.argmax()"
      ],
      "metadata": {
        "colab": {
          "base_uri": "https://localhost:8080/"
        },
        "id": "XUA4dwudFvMa",
        "outputId": "a6a9860a-4970-4a5d-a96f-b81e9a56780b"
      },
      "execution_count": 50,
      "outputs": [
        {
          "output_type": "execute_result",
          "data": {
            "text/plain": [
              "tensor(9)"
            ]
          },
          "metadata": {},
          "execution_count": 50
        }
      ]
    },
    {
      "cell_type": "markdown",
      "source": [
        "**Reshaping, Stacking, Squeezing and Unsqueezing tensors**\n",
        "\n",
        "Reshaping - reshapes the input tensor to defined shape\n",
        "\n",
        "View - returns a view of an input tensor of certain shape but keep the same memory as the poriginal\n",
        "\n",
        "Stacking - combine multiple tensors on top of each other (vstack) or side by side (hstack)\n",
        "\n",
        "squeeze - removes all 'l' dimensions from a tensor\n",
        "\n",
        "Unsqueeze - add a 'l' dimension to a target tensor\n",
        "\n",
        "Permute - return a view of the input with dimensions permutted(swapped in a certain way)"
      ],
      "metadata": {
        "id": "nRYD6WxXGd-C"
      }
    },
    {
      "cell_type": "code",
      "source": [
        "#Let's create a tensor\n",
        "import torch\n",
        "x = torch.arange(1., 10.)\n",
        "x, x.shape"
      ],
      "metadata": {
        "colab": {
          "base_uri": "https://localhost:8080/"
        },
        "id": "5NWEYdcRGMZI",
        "outputId": "af9dccb2-53b2-4621-edaa-e120b97fd34e"
      },
      "execution_count": 68,
      "outputs": [
        {
          "output_type": "execute_result",
          "data": {
            "text/plain": [
              "(tensor([1., 2., 3., 4., 5., 6., 7., 8., 9.]), torch.Size([9]))"
            ]
          },
          "metadata": {},
          "execution_count": 68
        }
      ]
    },
    {
      "cell_type": "code",
      "source": [
        "#Add an extra dimension\n",
        "x_reshaped = x.reshape(9, 1)\n",
        "x_reshaped, x_reshaped.shape"
      ],
      "metadata": {
        "colab": {
          "base_uri": "https://localhost:8080/"
        },
        "id": "axOVqrbOH4YV",
        "outputId": "413f1bcc-4950-4027-8d8c-4e00e90a90c9"
      },
      "execution_count": 69,
      "outputs": [
        {
          "output_type": "execute_result",
          "data": {
            "text/plain": [
              "(tensor([[1.],\n",
              "         [2.],\n",
              "         [3.],\n",
              "         [4.],\n",
              "         [5.],\n",
              "         [6.],\n",
              "         [7.],\n",
              "         [8.],\n",
              "         [9.]]),\n",
              " torch.Size([9, 1]))"
            ]
          },
          "metadata": {},
          "execution_count": 69
        }
      ]
    },
    {
      "cell_type": "code",
      "source": [
        "#change the view\n",
        "z = x.view(1, 9)\n",
        "z, z.shape"
      ],
      "metadata": {
        "colab": {
          "base_uri": "https://localhost:8080/"
        },
        "id": "q9Q8pQ_XIO-6",
        "outputId": "926ad09f-b964-4e15-a0f2-ebdef99342b9"
      },
      "execution_count": 70,
      "outputs": [
        {
          "output_type": "execute_result",
          "data": {
            "text/plain": [
              "(tensor([[1., 2., 3., 4., 5., 6., 7., 8., 9.]]), torch.Size([1, 9]))"
            ]
          },
          "metadata": {},
          "execution_count": 70
        }
      ]
    },
    {
      "cell_type": "code",
      "source": [
        "#changing z changes x(because a view of a tensor shares memory as the original tensor)\n",
        "z[:, 0] = 5\n",
        "z, x"
      ],
      "metadata": {
        "colab": {
          "base_uri": "https://localhost:8080/"
        },
        "id": "F-ZhOO-_JGPE",
        "outputId": "beba28ea-b2e7-41b6-8003-93e6063d0d7e"
      },
      "execution_count": 71,
      "outputs": [
        {
          "output_type": "execute_result",
          "data": {
            "text/plain": [
              "(tensor([[5., 2., 3., 4., 5., 6., 7., 8., 9.]]),\n",
              " tensor([5., 2., 3., 4., 5., 6., 7., 8., 9.]))"
            ]
          },
          "metadata": {},
          "execution_count": 71
        }
      ]
    },
    {
      "cell_type": "code",
      "source": [
        "#stack tensors on top of each other\n",
        "x_stacked = torch.stack([x, x, x, x], dim = 0)\n",
        "x_stacked"
      ],
      "metadata": {
        "colab": {
          "base_uri": "https://localhost:8080/"
        },
        "id": "m6-v1IFHKH5y",
        "outputId": "6a4b5110-1cd5-4f0b-c4b0-5ae9e47e5466"
      },
      "execution_count": 74,
      "outputs": [
        {
          "output_type": "execute_result",
          "data": {
            "text/plain": [
              "tensor([[5., 2., 3., 4., 5., 6., 7., 8., 9.],\n",
              "        [5., 2., 3., 4., 5., 6., 7., 8., 9.],\n",
              "        [5., 2., 3., 4., 5., 6., 7., 8., 9.],\n",
              "        [5., 2., 3., 4., 5., 6., 7., 8., 9.]])"
            ]
          },
          "metadata": {},
          "execution_count": 74
        }
      ]
    },
    {
      "cell_type": "code",
      "source": [
        "#torch.squeeze() - removes all single dimensions from a target tensor\n",
        "x_squeezed = x_reshaped.squeeze()\n",
        "print(f\"squeezed tensor:\", x_squeezed ),\n",
        "print(f\"squeezed tensor shape:\", x_reshaped.squeeze().shape),\n",
        "\n",
        "print(f\"original tensor:\", x_reshaped),\n",
        "print(f\"original tensor shape:\", x_reshaped.shape)"
      ],
      "metadata": {
        "colab": {
          "base_uri": "https://localhost:8080/"
        },
        "id": "KshGSTXTK9ET",
        "outputId": "e2ca9686-224b-4a37-9a9d-da164dd5485a"
      },
      "execution_count": 79,
      "outputs": [
        {
          "output_type": "stream",
          "name": "stdout",
          "text": [
            "squeezed tensor: tensor([5., 2., 3., 4., 5., 6., 7., 8., 9.])\n",
            "squeezed tensor shape: torch.Size([9])\n",
            "original tensor: tensor([[5.],\n",
            "        [2.],\n",
            "        [3.],\n",
            "        [4.],\n",
            "        [5.],\n",
            "        [6.],\n",
            "        [7.],\n",
            "        [8.],\n",
            "        [9.]])\n",
            "original tensor shape: torch.Size([9, 1])\n"
          ]
        }
      ]
    },
    {
      "cell_type": "code",
      "source": [
        "#torch.unsqueeze() - adds a single dimension to the target tensor at specific dimension\n",
        "print(f\"previous target:\", x_squeezed)\n",
        "#Add an extra dimension usoing unsqueeze\n",
        "x_unsqueezed = x_squeezed.unsqueeze(dim=1)\n",
        "print(f\"new unsqueed tensor:\", x_unsqueezed)\n",
        "print(f\"new unsqueezed tensor shape:\", x_unsqueezed.shape)"
      ],
      "metadata": {
        "colab": {
          "base_uri": "https://localhost:8080/"
        },
        "id": "pnkejzJFMGBa",
        "outputId": "f4aecb92-e512-44b4-e728-60838b7fd184"
      },
      "execution_count": 82,
      "outputs": [
        {
          "output_type": "stream",
          "name": "stdout",
          "text": [
            "previous target: tensor([5., 2., 3., 4., 5., 6., 7., 8., 9.])\n",
            "new unsqueed tensor: tensor([[5.],\n",
            "        [2.],\n",
            "        [3.],\n",
            "        [4.],\n",
            "        [5.],\n",
            "        [6.],\n",
            "        [7.],\n",
            "        [8.],\n",
            "        [9.]])\n",
            "new unsqueezed tensor shape: torch.Size([9, 1])\n"
          ]
        }
      ]
    },
    {
      "cell_type": "code",
      "source": [
        "#torch.permute - rearranges the dimensions of a target tensor in a specified order\n",
        "x_original = torch.rand(size=(224, 224, 3))\n",
        "print(f\"original tensor:\",x_original)\n",
        "#permute the original tensor to rearrange the axis(or dim) order\n",
        "x_permuted = x_original.permute(2, 0, 1) # shifts axis 0->1, 1->2 , 2->0\n",
        "print(f\"permuted tensor:\", x_permuted)"
      ],
      "metadata": {
        "colab": {
          "base_uri": "https://localhost:8080/"
        },
        "id": "UrkcpMewNu8I",
        "outputId": "1053edfd-242f-489d-cd09-1933da47036d"
      },
      "execution_count": 87,
      "outputs": [
        {
          "output_type": "stream",
          "name": "stdout",
          "text": [
            "original tensor: tensor([[[0.4098, 0.7334, 0.2085],\n",
            "         [0.8376, 0.9947, 0.3669],\n",
            "         [0.4836, 0.9995, 0.0976],\n",
            "         ...,\n",
            "         [0.4480, 0.7996, 0.1486],\n",
            "         [0.4528, 0.3855, 0.8218],\n",
            "         [0.9267, 0.8683, 0.9224]],\n",
            "\n",
            "        [[0.4749, 0.5371, 0.6205],\n",
            "         [0.7495, 0.7912, 0.6854],\n",
            "         [0.2140, 0.3320, 0.6356],\n",
            "         ...,\n",
            "         [0.6473, 0.5054, 0.5122],\n",
            "         [0.7987, 0.3949, 0.0569],\n",
            "         [0.9915, 0.8578, 0.1014]],\n",
            "\n",
            "        [[0.7838, 0.6249, 0.4683],\n",
            "         [0.0366, 0.5312, 0.7485],\n",
            "         [0.9436, 0.6762, 0.3722],\n",
            "         ...,\n",
            "         [0.8697, 0.4975, 0.3315],\n",
            "         [0.0295, 0.1769, 0.4845],\n",
            "         [0.1388, 0.0142, 0.7285]],\n",
            "\n",
            "        ...,\n",
            "\n",
            "        [[0.7813, 0.6584, 0.3074],\n",
            "         [0.2979, 0.5185, 0.7165],\n",
            "         [0.9715, 0.9480, 0.1920],\n",
            "         ...,\n",
            "         [0.9414, 0.0715, 0.5409],\n",
            "         [0.6520, 0.5767, 0.0433],\n",
            "         [0.4037, 0.7687, 0.5351]],\n",
            "\n",
            "        [[0.9553, 0.0216, 0.8644],\n",
            "         [0.0077, 0.8632, 0.2989],\n",
            "         [0.4739, 0.3571, 0.7561],\n",
            "         ...,\n",
            "         [0.7479, 0.1769, 0.9066],\n",
            "         [0.9167, 0.5616, 0.6519],\n",
            "         [0.1582, 0.7469, 0.0447]],\n",
            "\n",
            "        [[0.5481, 0.5097, 0.0768],\n",
            "         [0.7724, 0.7082, 0.8125],\n",
            "         [0.0330, 0.3742, 0.8649],\n",
            "         ...,\n",
            "         [0.4400, 0.4763, 0.6739],\n",
            "         [0.8632, 0.3199, 0.7398],\n",
            "         [0.5681, 0.0620, 0.4707]]])\n",
            "permuted tensor: tensor([[[0.4098, 0.8376, 0.4836,  ..., 0.4480, 0.4528, 0.9267],\n",
            "         [0.4749, 0.7495, 0.2140,  ..., 0.6473, 0.7987, 0.9915],\n",
            "         [0.7838, 0.0366, 0.9436,  ..., 0.8697, 0.0295, 0.1388],\n",
            "         ...,\n",
            "         [0.7813, 0.2979, 0.9715,  ..., 0.9414, 0.6520, 0.4037],\n",
            "         [0.9553, 0.0077, 0.4739,  ..., 0.7479, 0.9167, 0.1582],\n",
            "         [0.5481, 0.7724, 0.0330,  ..., 0.4400, 0.8632, 0.5681]],\n",
            "\n",
            "        [[0.7334, 0.9947, 0.9995,  ..., 0.7996, 0.3855, 0.8683],\n",
            "         [0.5371, 0.7912, 0.3320,  ..., 0.5054, 0.3949, 0.8578],\n",
            "         [0.6249, 0.5312, 0.6762,  ..., 0.4975, 0.1769, 0.0142],\n",
            "         ...,\n",
            "         [0.6584, 0.5185, 0.9480,  ..., 0.0715, 0.5767, 0.7687],\n",
            "         [0.0216, 0.8632, 0.3571,  ..., 0.1769, 0.5616, 0.7469],\n",
            "         [0.5097, 0.7082, 0.3742,  ..., 0.4763, 0.3199, 0.0620]],\n",
            "\n",
            "        [[0.2085, 0.3669, 0.0976,  ..., 0.1486, 0.8218, 0.9224],\n",
            "         [0.6205, 0.6854, 0.6356,  ..., 0.5122, 0.0569, 0.1014],\n",
            "         [0.4683, 0.7485, 0.3722,  ..., 0.3315, 0.4845, 0.7285],\n",
            "         ...,\n",
            "         [0.3074, 0.7165, 0.1920,  ..., 0.5409, 0.0433, 0.5351],\n",
            "         [0.8644, 0.2989, 0.7561,  ..., 0.9066, 0.6519, 0.0447],\n",
            "         [0.0768, 0.8125, 0.8649,  ..., 0.6739, 0.7398, 0.4707]]])\n"
          ]
        }
      ]
    },
    {
      "cell_type": "markdown",
      "source": [],
      "metadata": {
        "id": "RxMv_nuXIJRR"
      }
    }
  ],
  "metadata": {
    "colab": {
      "provenance": [],
      "authorship_tag": "ABX9TyMmu4levuoh3C81dTUyGPPv",
      "include_colab_link": true
    },
    "kernelspec": {
      "display_name": "Python 3",
      "name": "python3"
    },
    "language_info": {
      "name": "python"
    }
  },
  "nbformat": 4,
  "nbformat_minor": 0
}