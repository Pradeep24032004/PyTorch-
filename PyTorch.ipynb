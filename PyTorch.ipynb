{
  "cells": [
    {
      "cell_type": "markdown",
      "metadata": {
        "id": "view-in-github",
        "colab_type": "text"
      },
      "source": [
        "<a href=\"https://colab.research.google.com/github/Pradeep24032004/PyTorch-/blob/main/PyTorch.ipynb\" target=\"_parent\"><img src=\"https://colab.research.google.com/assets/colab-badge.svg\" alt=\"Open In Colab\"/></a>"
      ]
    },
    {
      "cell_type": "code",
      "execution_count": 2,
      "metadata": {
        "colab": {
          "base_uri": "https://localhost:8080/"
        },
        "id": "snESTlXW9kLs",
        "outputId": "79247cfc-1e32-4f0a-f059-39d0b0ce6712"
      },
      "outputs": [
        {
          "output_type": "stream",
          "name": "stdout",
          "text": [
            "/bin/bash: line 1: nvdia-smi: command not found\n"
          ]
        }
      ],
      "source": [
        "!nvdia-smi\n"
      ]
    },
    {
      "cell_type": "code",
      "execution_count": 3,
      "metadata": {
        "colab": {
          "base_uri": "https://localhost:8080/"
        },
        "id": "zu2SxTRwDLuG",
        "outputId": "8c5eac25-3ab5-4696-ca37-bdaeec7d3f06"
      },
      "outputs": [
        {
          "output_type": "stream",
          "name": "stdout",
          "text": [
            "2.1.0+cu121\n"
          ]
        }
      ],
      "source": [
        "import torch\n",
        "import pandas as pd\n",
        "import numpy as np\n",
        "import matplotlib.pyplot as plt\n",
        "print(torch.__version__)"
      ]
    },
    {
      "cell_type": "code",
      "execution_count": 4,
      "metadata": {
        "colab": {
          "base_uri": "https://localhost:8080/"
        },
        "id": "n_lY7t25EUlY",
        "outputId": "77103360-3a4f-431a-afa9-a8c794d712c2"
      },
      "outputs": [
        {
          "output_type": "execute_result",
          "data": {
            "text/plain": [
              "tensor(7)"
            ]
          },
          "metadata": {},
          "execution_count": 4
        }
      ],
      "source": [
        "#Introduction to tensors\n",
        "#creating tensors\n",
        "#scalars\n",
        "scalar = torch.tensor(7)\n",
        "scalar\n"
      ]
    },
    {
      "cell_type": "code",
      "source": [
        "scalar.ndim"
      ],
      "metadata": {
        "colab": {
          "base_uri": "https://localhost:8080/"
        },
        "id": "4x39ogseVgLf",
        "outputId": "aef7e029-ea02-4c7d-cfe1-c2fe9a642efa"
      },
      "execution_count": 5,
      "outputs": [
        {
          "output_type": "execute_result",
          "data": {
            "text/plain": [
              "0"
            ]
          },
          "metadata": {},
          "execution_count": 5
        }
      ]
    },
    {
      "cell_type": "code",
      "source": [
        "#get tensor as python int\n",
        "scalar.item()"
      ],
      "metadata": {
        "colab": {
          "base_uri": "https://localhost:8080/"
        },
        "id": "3UpMd2LzVike",
        "outputId": "acfcec75-bc95-4e9c-b35c-474c3bba3da4"
      },
      "execution_count": 6,
      "outputs": [
        {
          "output_type": "execute_result",
          "data": {
            "text/plain": [
              "7"
            ]
          },
          "metadata": {},
          "execution_count": 6
        }
      ]
    },
    {
      "cell_type": "code",
      "source": [
        "#vector\n",
        "vector = torch.tensor([7, 7])\n",
        "vector\n"
      ],
      "metadata": {
        "colab": {
          "base_uri": "https://localhost:8080/"
        },
        "id": "noRWeNoVV9yy",
        "outputId": "b5f500e2-60ed-4c81-dd96-aec862b2aa50"
      },
      "execution_count": 7,
      "outputs": [
        {
          "output_type": "execute_result",
          "data": {
            "text/plain": [
              "tensor([7, 7])"
            ]
          },
          "metadata": {},
          "execution_count": 7
        }
      ]
    },
    {
      "cell_type": "code",
      "source": [
        "vector.ndim"
      ],
      "metadata": {
        "colab": {
          "base_uri": "https://localhost:8080/"
        },
        "id": "KagaYz53WHi4",
        "outputId": "ed25f325-c5e3-4bc2-8439-edbee3d908b3"
      },
      "execution_count": 8,
      "outputs": [
        {
          "output_type": "execute_result",
          "data": {
            "text/plain": [
              "1"
            ]
          },
          "metadata": {},
          "execution_count": 8
        }
      ]
    },
    {
      "cell_type": "code",
      "source": [
        "vector.shape"
      ],
      "metadata": {
        "colab": {
          "base_uri": "https://localhost:8080/"
        },
        "id": "zho8FpjkWKpy",
        "outputId": "30195728-9738-4db3-ee53-af3874cdccac"
      },
      "execution_count": 9,
      "outputs": [
        {
          "output_type": "execute_result",
          "data": {
            "text/plain": [
              "torch.Size([2])"
            ]
          },
          "metadata": {},
          "execution_count": 9
        }
      ]
    },
    {
      "cell_type": "code",
      "source": [
        "#Matrix\n",
        "MATRIX = torch.tensor([[1, 2], [3, 4]])\n",
        "MATRIX\n"
      ],
      "metadata": {
        "colab": {
          "base_uri": "https://localhost:8080/"
        },
        "id": "oeP6pOn9WOkA",
        "outputId": "dec4f211-aa2e-4376-8ad6-595cb1fd15d0"
      },
      "execution_count": 10,
      "outputs": [
        {
          "output_type": "execute_result",
          "data": {
            "text/plain": [
              "tensor([[1, 2],\n",
              "        [3, 4]])"
            ]
          },
          "metadata": {},
          "execution_count": 10
        }
      ]
    },
    {
      "cell_type": "code",
      "source": [
        "MATRIX.ndim"
      ],
      "metadata": {
        "colab": {
          "base_uri": "https://localhost:8080/"
        },
        "id": "VhPe24njWagz",
        "outputId": "4d6a3e7b-9c80-4f3c-c255-5f0048d0283c"
      },
      "execution_count": 11,
      "outputs": [
        {
          "output_type": "execute_result",
          "data": {
            "text/plain": [
              "2"
            ]
          },
          "metadata": {},
          "execution_count": 11
        }
      ]
    },
    {
      "cell_type": "code",
      "source": [
        "MATRIX[1]"
      ],
      "metadata": {
        "colab": {
          "base_uri": "https://localhost:8080/"
        },
        "id": "dx025814WgDr",
        "outputId": "5c161154-ad8c-45d9-894c-9c92f2861f27"
      },
      "execution_count": 12,
      "outputs": [
        {
          "output_type": "execute_result",
          "data": {
            "text/plain": [
              "tensor([3, 4])"
            ]
          },
          "metadata": {},
          "execution_count": 12
        }
      ]
    },
    {
      "cell_type": "code",
      "source": [
        "MATRIX.shape"
      ],
      "metadata": {
        "colab": {
          "base_uri": "https://localhost:8080/"
        },
        "id": "Q6EP4kaGWjMH",
        "outputId": "4bd678ac-83a1-4490-d252-d5c6492f962e"
      },
      "execution_count": 13,
      "outputs": [
        {
          "output_type": "execute_result",
          "data": {
            "text/plain": [
              "torch.Size([2, 2])"
            ]
          },
          "metadata": {},
          "execution_count": 13
        }
      ]
    },
    {
      "cell_type": "markdown",
      "source": [
        "Generally in tensors scalars are represented by lower case letters like 'a', vectors are represented by lower case letters like 'y', matrix is represented by upper case letters like 'Q' and tenosrs are represented by upper case letters like 'X'"
      ],
      "metadata": {
        "id": "dg9dG2OzX2sq"
      }
    },
    {
      "cell_type": "code",
      "source": [
        "#Random Tensors\n",
        "#random tensors are important because the way many neural networks learn is that they start with tensors full random numbers and then adjust the random numbers to better represent the data\n",
        "random_tensor = torch.rand(3, 4)\n",
        "random_tensor"
      ],
      "metadata": {
        "colab": {
          "base_uri": "https://localhost:8080/"
        },
        "id": "FmX5uLXPYRKK",
        "outputId": "1b30b828-9e19-4200-e63c-f0683ce5cb33"
      },
      "execution_count": 14,
      "outputs": [
        {
          "output_type": "execute_result",
          "data": {
            "text/plain": [
              "tensor([[0.2636, 0.9187, 0.5929, 0.9858],\n",
              "        [0.1429, 0.6632, 0.7748, 0.5338],\n",
              "        [0.8693, 0.5536, 0.2319, 0.8206]])"
            ]
          },
          "metadata": {},
          "execution_count": 14
        }
      ]
    },
    {
      "cell_type": "code",
      "source": [
        "#create a random tensor with similar shape to an image tensor\n",
        "random_image_tensor = torch.rand(size=(224, 224, 3)) # height, width, color channels(R, G, B)\n",
        "random_image_tensor"
      ],
      "metadata": {
        "colab": {
          "base_uri": "https://localhost:8080/"
        },
        "id": "Vktzx-fEZ_B_",
        "outputId": "8ada76d4-27bf-4190-b299-b5b12f47f1a0"
      },
      "execution_count": 15,
      "outputs": [
        {
          "output_type": "execute_result",
          "data": {
            "text/plain": [
              "tensor([[[1.1913e-01, 8.2397e-02, 4.1673e-01],\n",
              "         [5.1530e-01, 7.6370e-02, 9.9667e-02],\n",
              "         [8.3518e-01, 9.2562e-01, 9.6660e-01],\n",
              "         ...,\n",
              "         [5.4641e-01, 4.3162e-01, 8.0684e-01],\n",
              "         [8.0473e-01, 7.3906e-02, 7.6357e-01],\n",
              "         [5.2550e-01, 8.7290e-01, 5.4712e-01]],\n",
              "\n",
              "        [[8.0896e-01, 9.3271e-01, 3.9666e-01],\n",
              "         [2.4763e-02, 9.8138e-01, 5.2376e-01],\n",
              "         [6.3389e-01, 8.8769e-01, 8.6765e-01],\n",
              "         ...,\n",
              "         [7.5171e-01, 4.7097e-01, 5.1364e-01],\n",
              "         [3.1429e-01, 3.7843e-01, 9.7837e-01],\n",
              "         [3.0347e-01, 1.4272e-01, 7.7283e-01]],\n",
              "\n",
              "        [[8.8716e-01, 7.8700e-01, 5.9682e-02],\n",
              "         [5.7415e-01, 9.1300e-01, 9.8919e-01],\n",
              "         [7.7052e-01, 1.9912e-02, 5.6952e-01],\n",
              "         ...,\n",
              "         [5.8977e-02, 5.6671e-01, 8.3076e-01],\n",
              "         [1.8905e-01, 1.2053e-01, 3.0529e-01],\n",
              "         [8.1109e-01, 3.3386e-01, 8.0488e-02]],\n",
              "\n",
              "        ...,\n",
              "\n",
              "        [[5.0509e-01, 9.6564e-01, 9.2756e-01],\n",
              "         [8.2073e-01, 6.8204e-01, 8.6029e-02],\n",
              "         [4.9739e-01, 8.7973e-01, 5.6153e-01],\n",
              "         ...,\n",
              "         [6.8553e-01, 8.3518e-01, 2.2483e-01],\n",
              "         [8.9802e-01, 9.6731e-01, 4.2882e-01],\n",
              "         [8.1916e-01, 9.2760e-01, 1.7506e-01]],\n",
              "\n",
              "        [[1.8937e-02, 7.7589e-01, 1.7947e-01],\n",
              "         [3.3338e-01, 3.2235e-01, 5.9411e-01],\n",
              "         [5.9396e-01, 4.7637e-01, 2.6424e-01],\n",
              "         ...,\n",
              "         [1.3949e-01, 8.2217e-01, 5.4936e-01],\n",
              "         [5.1200e-02, 9.7440e-01, 5.9977e-02],\n",
              "         [4.7474e-01, 2.6718e-01, 1.9606e-01]],\n",
              "\n",
              "        [[1.5980e-01, 2.8179e-01, 5.6207e-01],\n",
              "         [5.7595e-01, 1.6418e-01, 1.3232e-01],\n",
              "         [7.6443e-02, 4.5109e-01, 8.0103e-03],\n",
              "         ...,\n",
              "         [1.1618e-01, 9.8109e-02, 8.6940e-01],\n",
              "         [3.8760e-01, 1.3041e-01, 4.0370e-04],\n",
              "         [5.4573e-01, 6.3181e-01, 9.5906e-01]]])"
            ]
          },
          "metadata": {},
          "execution_count": 15
        }
      ]
    },
    {
      "cell_type": "code",
      "source": [
        "random_image_tensor.ndim"
      ],
      "metadata": {
        "colab": {
          "base_uri": "https://localhost:8080/"
        },
        "id": "x_QjTIekaejR",
        "outputId": "7d575f2d-9e85-4e26-c388-db65fbd3b944"
      },
      "execution_count": 16,
      "outputs": [
        {
          "output_type": "execute_result",
          "data": {
            "text/plain": [
              "3"
            ]
          },
          "metadata": {},
          "execution_count": 16
        }
      ]
    },
    {
      "cell_type": "markdown",
      "source": [
        "***Zeros and Ones***"
      ],
      "metadata": {
        "id": "wCufZA3ybQCl"
      }
    },
    {
      "cell_type": "code",
      "source": [
        "zeros = torch.zeros(size=(3, 4))\n",
        "zeros"
      ],
      "metadata": {
        "colab": {
          "base_uri": "https://localhost:8080/"
        },
        "id": "nmVyM4NQbfSn",
        "outputId": "62ca4485-8ad8-4c3c-dc79-34623d4f6975"
      },
      "execution_count": 17,
      "outputs": [
        {
          "output_type": "execute_result",
          "data": {
            "text/plain": [
              "tensor([[0., 0., 0., 0.],\n",
              "        [0., 0., 0., 0.],\n",
              "        [0., 0., 0., 0.]])"
            ]
          },
          "metadata": {},
          "execution_count": 17
        }
      ]
    },
    {
      "cell_type": "code",
      "source": [
        "#creat6e tensor of ones\n",
        "ones = torch.ones(size=(3, 4))\n",
        "ones"
      ],
      "metadata": {
        "colab": {
          "base_uri": "https://localhost:8080/"
        },
        "id": "lve0jK-2buYm",
        "outputId": "f48a1854-c169-40f1-ff8a-f23bd782fefc"
      },
      "execution_count": 18,
      "outputs": [
        {
          "output_type": "execute_result",
          "data": {
            "text/plain": [
              "tensor([[1., 1., 1., 1.],\n",
              "        [1., 1., 1., 1.],\n",
              "        [1., 1., 1., 1.]])"
            ]
          },
          "metadata": {},
          "execution_count": 18
        }
      ]
    },
    {
      "cell_type": "code",
      "source": [
        "#data type\n",
        "ones.dtype"
      ],
      "metadata": {
        "colab": {
          "base_uri": "https://localhost:8080/"
        },
        "id": "UxfQWNj-cCb6",
        "outputId": "e59c2344-4bf5-4322-e6b8-196a31d81f7d"
      },
      "execution_count": 19,
      "outputs": [
        {
          "output_type": "execute_result",
          "data": {
            "text/plain": [
              "torch.float32"
            ]
          },
          "metadata": {},
          "execution_count": 19
        }
      ]
    },
    {
      "cell_type": "markdown",
      "source": [
        "Creating a range of tensors and tensors-like\n"
      ],
      "metadata": {
        "id": "bZzfzJ1ScReH"
      }
    },
    {
      "cell_type": "code",
      "source": [
        "#use torch.arange()\n",
        "torch.arange(0, 10)"
      ],
      "metadata": {
        "colab": {
          "base_uri": "https://localhost:8080/"
        },
        "id": "Z8spzaSscW1L",
        "outputId": "95271e93-5138-405e-9046-281fddfe9104"
      },
      "execution_count": 20,
      "outputs": [
        {
          "output_type": "execute_result",
          "data": {
            "text/plain": [
              "tensor([0, 1, 2, 3, 4, 5, 6, 7, 8, 9])"
            ]
          },
          "metadata": {},
          "execution_count": 20
        }
      ]
    },
    {
      "cell_type": "code",
      "source": [
        "one_to_ten = torch.arange(start=1, end = 11, step=1)\n",
        "one_to_ten"
      ],
      "metadata": {
        "colab": {
          "base_uri": "https://localhost:8080/"
        },
        "id": "HSMU2WYDc6UO",
        "outputId": "041dd1fe-e7a7-4fe1-ac9c-09f3186b97e7"
      },
      "execution_count": 21,
      "outputs": [
        {
          "output_type": "execute_result",
          "data": {
            "text/plain": [
              "tensor([ 1,  2,  3,  4,  5,  6,  7,  8,  9, 10])"
            ]
          },
          "metadata": {},
          "execution_count": 21
        }
      ]
    },
    {
      "cell_type": "code",
      "source": [
        "#creating tenors like\n",
        "ten_zeros = torch.zeros_like(input = one_to_ten)\n",
        "ten_zeros"
      ],
      "metadata": {
        "colab": {
          "base_uri": "https://localhost:8080/"
        },
        "id": "untmpknwd5WI",
        "outputId": "2699ebb0-50bd-4234-a926-d1d2b2b803ce"
      },
      "execution_count": 22,
      "outputs": [
        {
          "output_type": "execute_result",
          "data": {
            "text/plain": [
              "tensor([0, 0, 0, 0, 0, 0, 0, 0, 0, 0])"
            ]
          },
          "metadata": {},
          "execution_count": 22
        }
      ]
    },
    {
      "cell_type": "code",
      "source": [
        "#Tensor datatypes\n",
        "#Float 32 tensor\n",
        "float_32_tensor = torch.tensor([3.0, 4.0, 7.0], dtype=None,#datatype whether float or int\n",
        "                               device=None,  #running on which device cpu or gpu\n",
        "                               requires_grad=False ) #to keep track of gradient descent or not\n",
        "float_32_tensor"
      ],
      "metadata": {
        "colab": {
          "base_uri": "https://localhost:8080/"
        },
        "id": "lNStp1i4e9Hq",
        "outputId": "1215836a-10cd-4600-f581-a43f781abb14"
      },
      "execution_count": 23,
      "outputs": [
        {
          "output_type": "execute_result",
          "data": {
            "text/plain": [
              "tensor([3., 4., 7.])"
            ]
          },
          "metadata": {},
          "execution_count": 23
        }
      ]
    },
    {
      "cell_type": "code",
      "source": [
        "float_32_tensor.dtype"
      ],
      "metadata": {
        "colab": {
          "base_uri": "https://localhost:8080/"
        },
        "id": "41eq1qTOgv70",
        "outputId": "16638bc8-2c5c-4681-a516-526b1b99af65"
      },
      "execution_count": 24,
      "outputs": [
        {
          "output_type": "execute_result",
          "data": {
            "text/plain": [
              "torch.float32"
            ]
          },
          "metadata": {},
          "execution_count": 24
        }
      ]
    },
    {
      "cell_type": "code",
      "source": [
        "float_16_tensor = float_32_tensor.type(torch.float16)\n",
        "float_16_tensor\n"
      ],
      "metadata": {
        "colab": {
          "base_uri": "https://localhost:8080/"
        },
        "id": "IFLRnYygg0aJ",
        "outputId": "d9c4acae-bebf-4913-8713-e8e272aaf684"
      },
      "execution_count": 26,
      "outputs": [
        {
          "output_type": "execute_result",
          "data": {
            "text/plain": [
              "tensor([3., 4., 7.], dtype=torch.float16)"
            ]
          },
          "metadata": {},
          "execution_count": 26
        }
      ]
    }
  ],
  "metadata": {
    "colab": {
      "provenance": [],
      "authorship_tag": "ABX9TyMwNrLgoR7i+FJj9TPG5DYd",
      "include_colab_link": true
    },
    "kernelspec": {
      "display_name": "Python 3",
      "name": "python3"
    },
    "language_info": {
      "name": "python"
    }
  },
  "nbformat": 4,
  "nbformat_minor": 0
}